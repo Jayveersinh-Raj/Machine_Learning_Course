{
  "cells": [
    {
      "cell_type": "markdown",
      "metadata": {
        "id": "view-in-github",
        "colab_type": "text"
      },
      "source": [
        "<a href=\"https://colab.research.google.com/github/Jayveersinh-Raj/Machine_Learning_IU_Labs/blob/main/Lab4_self_practice.ipynb\" target=\"_parent\"><img src=\"https://colab.research.google.com/assets/colab-badge.svg\" alt=\"Open In Colab\"/></a>"
      ]
    },
    {
      "cell_type": "code",
      "source": [
        "import numpy as np\n",
        "import pandas as pd\n",
        "from sklearn.datasets import load_breast_cancer, load_digits\n",
        "from sklearn.impute import SimpleImputer\n",
        "from sklearn.preprocessing import OneHotEncoder, MinMaxScaler\n",
        "from sklearn.model_selection import train_test_split\n",
        "from sklearn.metrics import accuracy_score, classification_report\n",
        "import matplotlib.pyplot as plt"
      ],
      "metadata": {
        "pycharm": {
          "name": "#%%\n"
        },
        "id": "WFMqtb4j-4Q8"
      },
      "execution_count": 6,
      "outputs": []
    },
    {
      "cell_type": "markdown",
      "source": [
        "# Naive Bayes"
      ],
      "metadata": {
        "collapsed": false,
        "pycharm": {
          "name": "#%% md\n"
        },
        "id": "u8kDNgVD-4RB"
      }
    },
    {
      "cell_type": "code",
      "execution_count": 7,
      "outputs": [
        {
          "output_type": "execute_result",
          "data": {
            "text/plain": [
              "   survived  pclass     sex    age  sibsp  parch      fare embarked\n",
              "0         1       1  female  29.00      0      0  211.3375        S\n",
              "1         1       1    male   0.92      1      2  151.5500        S\n",
              "2         0       1  female   2.00      1      2  151.5500        S\n",
              "3         0       1    male  30.00      1      2  151.5500        S\n",
              "4         0       1  female  25.00      1      2  151.5500        S"
            ],
            "text/html": [
              "\n",
              "  <div id=\"df-8e8f9f77-f55f-4901-8d64-75a8bc41d019\">\n",
              "    <div class=\"colab-df-container\">\n",
              "      <div>\n",
              "<style scoped>\n",
              "    .dataframe tbody tr th:only-of-type {\n",
              "        vertical-align: middle;\n",
              "    }\n",
              "\n",
              "    .dataframe tbody tr th {\n",
              "        vertical-align: top;\n",
              "    }\n",
              "\n",
              "    .dataframe thead th {\n",
              "        text-align: right;\n",
              "    }\n",
              "</style>\n",
              "<table border=\"1\" class=\"dataframe\">\n",
              "  <thead>\n",
              "    <tr style=\"text-align: right;\">\n",
              "      <th></th>\n",
              "      <th>survived</th>\n",
              "      <th>pclass</th>\n",
              "      <th>sex</th>\n",
              "      <th>age</th>\n",
              "      <th>sibsp</th>\n",
              "      <th>parch</th>\n",
              "      <th>fare</th>\n",
              "      <th>embarked</th>\n",
              "    </tr>\n",
              "  </thead>\n",
              "  <tbody>\n",
              "    <tr>\n",
              "      <th>0</th>\n",
              "      <td>1</td>\n",
              "      <td>1</td>\n",
              "      <td>female</td>\n",
              "      <td>29.00</td>\n",
              "      <td>0</td>\n",
              "      <td>0</td>\n",
              "      <td>211.3375</td>\n",
              "      <td>S</td>\n",
              "    </tr>\n",
              "    <tr>\n",
              "      <th>1</th>\n",
              "      <td>1</td>\n",
              "      <td>1</td>\n",
              "      <td>male</td>\n",
              "      <td>0.92</td>\n",
              "      <td>1</td>\n",
              "      <td>2</td>\n",
              "      <td>151.5500</td>\n",
              "      <td>S</td>\n",
              "    </tr>\n",
              "    <tr>\n",
              "      <th>2</th>\n",
              "      <td>0</td>\n",
              "      <td>1</td>\n",
              "      <td>female</td>\n",
              "      <td>2.00</td>\n",
              "      <td>1</td>\n",
              "      <td>2</td>\n",
              "      <td>151.5500</td>\n",
              "      <td>S</td>\n",
              "    </tr>\n",
              "    <tr>\n",
              "      <th>3</th>\n",
              "      <td>0</td>\n",
              "      <td>1</td>\n",
              "      <td>male</td>\n",
              "      <td>30.00</td>\n",
              "      <td>1</td>\n",
              "      <td>2</td>\n",
              "      <td>151.5500</td>\n",
              "      <td>S</td>\n",
              "    </tr>\n",
              "    <tr>\n",
              "      <th>4</th>\n",
              "      <td>0</td>\n",
              "      <td>1</td>\n",
              "      <td>female</td>\n",
              "      <td>25.00</td>\n",
              "      <td>1</td>\n",
              "      <td>2</td>\n",
              "      <td>151.5500</td>\n",
              "      <td>S</td>\n",
              "    </tr>\n",
              "  </tbody>\n",
              "</table>\n",
              "</div>\n",
              "      <button class=\"colab-df-convert\" onclick=\"convertToInteractive('df-8e8f9f77-f55f-4901-8d64-75a8bc41d019')\"\n",
              "              title=\"Convert this dataframe to an interactive table.\"\n",
              "              style=\"display:none;\">\n",
              "        \n",
              "  <svg xmlns=\"http://www.w3.org/2000/svg\" height=\"24px\"viewBox=\"0 0 24 24\"\n",
              "       width=\"24px\">\n",
              "    <path d=\"M0 0h24v24H0V0z\" fill=\"none\"/>\n",
              "    <path d=\"M18.56 5.44l.94 2.06.94-2.06 2.06-.94-2.06-.94-.94-2.06-.94 2.06-2.06.94zm-11 1L8.5 8.5l.94-2.06 2.06-.94-2.06-.94L8.5 2.5l-.94 2.06-2.06.94zm10 10l.94 2.06.94-2.06 2.06-.94-2.06-.94-.94-2.06-.94 2.06-2.06.94z\"/><path d=\"M17.41 7.96l-1.37-1.37c-.4-.4-.92-.59-1.43-.59-.52 0-1.04.2-1.43.59L10.3 9.45l-7.72 7.72c-.78.78-.78 2.05 0 2.83L4 21.41c.39.39.9.59 1.41.59.51 0 1.02-.2 1.41-.59l7.78-7.78 2.81-2.81c.8-.78.8-2.07 0-2.86zM5.41 20L4 18.59l7.72-7.72 1.47 1.35L5.41 20z\"/>\n",
              "  </svg>\n",
              "      </button>\n",
              "      \n",
              "  <style>\n",
              "    .colab-df-container {\n",
              "      display:flex;\n",
              "      flex-wrap:wrap;\n",
              "      gap: 12px;\n",
              "    }\n",
              "\n",
              "    .colab-df-convert {\n",
              "      background-color: #E8F0FE;\n",
              "      border: none;\n",
              "      border-radius: 50%;\n",
              "      cursor: pointer;\n",
              "      display: none;\n",
              "      fill: #1967D2;\n",
              "      height: 32px;\n",
              "      padding: 0 0 0 0;\n",
              "      width: 32px;\n",
              "    }\n",
              "\n",
              "    .colab-df-convert:hover {\n",
              "      background-color: #E2EBFA;\n",
              "      box-shadow: 0px 1px 2px rgba(60, 64, 67, 0.3), 0px 1px 3px 1px rgba(60, 64, 67, 0.15);\n",
              "      fill: #174EA6;\n",
              "    }\n",
              "\n",
              "    [theme=dark] .colab-df-convert {\n",
              "      background-color: #3B4455;\n",
              "      fill: #D2E3FC;\n",
              "    }\n",
              "\n",
              "    [theme=dark] .colab-df-convert:hover {\n",
              "      background-color: #434B5C;\n",
              "      box-shadow: 0px 1px 3px 1px rgba(0, 0, 0, 0.15);\n",
              "      filter: drop-shadow(0px 1px 2px rgba(0, 0, 0, 0.3));\n",
              "      fill: #FFFFFF;\n",
              "    }\n",
              "  </style>\n",
              "\n",
              "      <script>\n",
              "        const buttonEl =\n",
              "          document.querySelector('#df-8e8f9f77-f55f-4901-8d64-75a8bc41d019 button.colab-df-convert');\n",
              "        buttonEl.style.display =\n",
              "          google.colab.kernel.accessAllowed ? 'block' : 'none';\n",
              "\n",
              "        async function convertToInteractive(key) {\n",
              "          const element = document.querySelector('#df-8e8f9f77-f55f-4901-8d64-75a8bc41d019');\n",
              "          const dataTable =\n",
              "            await google.colab.kernel.invokeFunction('convertToInteractive',\n",
              "                                                     [key], {});\n",
              "          if (!dataTable) return;\n",
              "\n",
              "          const docLinkHtml = 'Like what you see? Visit the ' +\n",
              "            '<a target=\"_blank\" href=https://colab.research.google.com/notebooks/data_table.ipynb>data table notebook</a>'\n",
              "            + ' to learn more about interactive tables.';\n",
              "          element.innerHTML = '';\n",
              "          dataTable['output_type'] = 'display_data';\n",
              "          await google.colab.output.renderOutput(dataTable, element);\n",
              "          const docLink = document.createElement('div');\n",
              "          docLink.innerHTML = docLinkHtml;\n",
              "          element.appendChild(docLink);\n",
              "        }\n",
              "      </script>\n",
              "    </div>\n",
              "  </div>\n",
              "  "
            ]
          },
          "metadata": {},
          "execution_count": 7
        }
      ],
      "source": [
        "data = pd.read_csv('titanic.csv')\n",
        "# removing name column\n",
        "data = data.drop(['name'], axis = 1)\n",
        "data.head()"
      ],
      "metadata": {
        "pycharm": {
          "name": "#%%\n"
        },
        "colab": {
          "base_uri": "https://localhost:8080/",
          "height": 206
        },
        "id": "Fo_Tl4ck-4RC",
        "outputId": "02fb8d1a-e551-4d8c-86e5-048f1b4f3256"
      }
    },
    {
      "cell_type": "code",
      "execution_count": 8,
      "outputs": [],
      "source": [
        "# split data\n",
        "x_train, x_test, y_train, y_test = train_test_split(data.loc[:, 'pclass':], data['survived'],\n",
        "                                                    test_size=0.2, stratify=data['survived'])"
      ],
      "metadata": {
        "pycharm": {
          "name": "#%%\n"
        },
        "id": "r9Eo30CT-4RD"
      }
    },
    {
      "cell_type": "markdown",
      "source": [
        "## Data preprocessing\n",
        "NB can handle discrete features data which can be useful with categorical data.\n",
        "\n",
        "Let's see one of the advantages of NB classifier. NB is not affected by data scaling"
      ],
      "metadata": {
        "collapsed": false,
        "pycharm": {
          "name": "#%% md\n"
        },
        "id": "-NwfE47S-4RE"
      }
    },
    {
      "cell_type": "code",
      "execution_count": 9,
      "outputs": [
        {
          "output_type": "stream",
          "name": "stderr",
          "text": [
            "/usr/local/lib/python3.7/dist-packages/sklearn/utils/deprecation.py:87: FutureWarning: Function get_feature_names is deprecated; get_feature_names is deprecated in 1.0 and will be removed in 1.2. Please use get_feature_names_out instead.\n",
            "  warnings.warn(msg, category=FutureWarning)\n",
            "/usr/local/lib/python3.7/dist-packages/sklearn/utils/deprecation.py:87: FutureWarning: Function get_feature_names is deprecated; get_feature_names is deprecated in 1.0 and will be removed in 1.2. Please use get_feature_names_out instead.\n",
            "  warnings.warn(msg, category=FutureWarning)\n"
          ]
        }
      ],
      "source": [
        "# imputing missing values\n",
        "imputer = SimpleImputer(strategy='most_frequent')\n",
        "imputer.fit(x_train)\n",
        "x_train = pd.DataFrame(imputer.transform(x_train), columns=x_train.columns)\n",
        "x_test = pd.DataFrame(imputer.transform(x_test), columns=x_test.columns)\n",
        "\n",
        "# one-hot-encode categorical features\n",
        "def ohe_new_features(df, features_name, encoder):\n",
        "    new_feats = encoder.transform(df[features_name])\n",
        "    # create dataframe from encoded features with named columns\n",
        "    new_cols = pd.DataFrame(new_feats, dtype=int, columns=encoder.get_feature_names(features_name))\n",
        "    new_df = pd.concat([df, new_cols], axis=1)\n",
        "    new_df.drop(features_name, axis=1, inplace=True)\n",
        "    return new_df\n",
        "\n",
        "encoder = OneHotEncoder(sparse=False, drop='first')\n",
        "f_names = ['sex', 'embarked']\n",
        "encoder.fit(x_train[f_names])\n",
        "x_train = ohe_new_features(x_train, f_names, encoder)\n",
        "x_test = ohe_new_features(x_test, f_names, encoder)\n",
        "\n",
        "# feature scaling\n",
        "scaler = MinMaxScaler()\n",
        "scaler.fit(x_train)\n",
        "scaled_x_train = pd.DataFrame(scaler.transform(x_train), columns=x_train.columns)\n",
        "scaled_x_test = pd.DataFrame(scaler.transform(x_test), columns=x_test.columns)"
      ],
      "metadata": {
        "pycharm": {
          "name": "#%%\n"
        },
        "colab": {
          "base_uri": "https://localhost:8080/"
        },
        "id": "tpoN-VjJ-4RF",
        "outputId": "376505ea-4e55-4ffc-cc5a-1b71a880a298"
      }
    },
    {
      "cell_type": "markdown",
      "source": [
        "Train and test two NB models ono the data before scaling and one after scaling\n",
        "and observe if the accuracy change with scaling"
      ],
      "metadata": {
        "collapsed": false,
        "pycharm": {
          "name": "#%% md\n"
        },
        "id": "qZkkuP5N-4RG"
      }
    },
    {
      "cell_type": "code",
      "execution_count": 10,
      "outputs": [
        {
          "output_type": "stream",
          "name": "stdout",
          "text": [
            "Accuracy before scaling: 0.7633587786259542\n",
            "Accuracy after scaling: 0.7633587786259542\n"
          ]
        }
      ],
      "source": [
        "from sklearn.naive_bayes import GaussianNB, MultinomialNB\n",
        "\n",
        "# Write code here\n",
        "nb = GaussianNB()\n",
        "nb.fit(x_train, y_train)\n",
        "y_pred = nb.predict(x_test)\n",
        "print('Accuracy before scaling:', accuracy_score(y_test, y_pred))\n",
        "\n",
        "# Write code here\n",
        "nb = GaussianNB()\n",
        "nb.fit(scaled_x_train, y_train)\n",
        "y_pred = nb.predict(scaled_x_test)\n",
        "print('Accuracy after scaling:', accuracy_score(y_test, y_pred))"
      ],
      "metadata": {
        "pycharm": {
          "name": "#%%\n"
        },
        "colab": {
          "base_uri": "https://localhost:8080/"
        },
        "id": "Fdwxv3HW-4RG",
        "outputId": "5aa9cd28-765f-4e16-90b4-c202e12b6198"
      }
    },
    {
      "cell_type": "markdown",
      "source": [
        "# Regularization\n",
        "What is [Elastic-Net](https://scikit-learn.org/stable/modules/linear_model.html#elastic-net)?\n",
        "How can you specify the contribution of each part using l1 ration\n",
        "\n",
        "Apply classification on the breast cancer dataset with no regularization, l1,\n",
        "l2, and elastic-net."
      ],
      "metadata": {
        "collapsed": false,
        "pycharm": {
          "name": "#%% md\n"
        },
        "id": "rCQT_pfk-4RH"
      }
    },
    {
      "cell_type": "markdown",
      "source": [
        "### Loading Breast cancer dataset"
      ],
      "metadata": {
        "collapsed": false,
        "pycharm": {
          "name": "#%% md\n"
        },
        "id": "HHtl5SKl-4RI"
      }
    },
    {
      "cell_type": "code",
      "source": [
        "X, y = load_breast_cancer(return_X_y=True)\n",
        "\n",
        "x_train, x_test, y_train, y_test = train_test_split(X, y, test_size=0.3, random_state=123)"
      ],
      "metadata": {
        "pycharm": {
          "name": "#%%\n"
        },
        "id": "JK8cc9EC-4RI"
      },
      "execution_count": 18,
      "outputs": []
    },
    {
      "cell_type": "code",
      "source": [
        "x_train.shape, y_train.shape"
      ],
      "metadata": {
        "colab": {
          "base_uri": "https://localhost:8080/"
        },
        "id": "OXm1uPB1C5C9",
        "outputId": "93f56c20-510a-4400-a7db-8bc2610d127b"
      },
      "execution_count": 19,
      "outputs": [
        {
          "output_type": "execute_result",
          "data": {
            "text/plain": [
              "((398, 30), (398,))"
            ]
          },
          "metadata": {},
          "execution_count": 19
        }
      ]
    },
    {
      "cell_type": "markdown",
      "source": [
        "### Fitting both Lasso and Ridge\n",
        "\n",
        "Fit 3 models: Lasso and Ridge and Elastic-Net.\n",
        "Then print their accuracy and coefficients and notice the difference."
      ],
      "metadata": {
        "collapsed": false,
        "pycharm": {
          "name": "#%% md\n"
        },
        "id": "B4fxKXSJ-4RI"
      }
    },
    {
      "cell_type": "code",
      "execution_count": 27,
      "outputs": [
        {
          "output_type": "stream",
          "name": "stdout",
          "text": [
            "Lasso Coefficient:\n",
            "\t-0.0\n",
            "\t-0.0\n",
            "\t-0.0\n",
            "\t-0.00023817212611857441\n",
            "\t-0.0\n",
            "\t-0.0\n",
            "\t-0.0\n",
            "\t-0.0\n",
            "\t-0.0\n",
            "\t-0.0\n",
            "\t-0.0\n",
            "\t-0.0\n",
            "\t-0.0\n",
            "\t0.0\n",
            "\t-0.0\n",
            "\t-0.0\n",
            "\t-0.0\n",
            "\t-0.0\n",
            "\t-0.0\n",
            "\t-0.0\n",
            "\t-0.0\n",
            "\t-0.0\n",
            "\t-5.5678468059991235e-05\n",
            "\t-0.0004842808015410192\n",
            "\t-0.0\n",
            "\t-0.0\n",
            "\t-0.0\n",
            "\t-0.0\n",
            "\t-0.0\n",
            "\t-0.0\n",
            "Lasso accuracy on test set: 0.11854514910609783\n",
            "Ridge Coefficient:\n",
            "\t0.17447187764147926\n",
            "\t0.001530445701946946\n",
            "\t-0.005130553983584855\n",
            "\t-0.001283245290806484\n",
            "\t-0.11818431801147858\n",
            "\t-0.016831359813224714\n",
            "\t-0.13128864872471402\n",
            "\t-0.22476034062783046\n",
            "\t-0.15232778696944937\n",
            "\t-0.007925154585496984\n",
            "\t-0.12750204998561193\n",
            "\t0.027210723580088622\n",
            "\t-0.04046861093927489\n",
            "\t0.0013877155613872575\n",
            "\t-0.048305602761870035\n",
            "\t0.05753029819699566\n",
            "\t0.15943928370405416\n",
            "\t-0.03971724081726296\n",
            "\t-0.022043211916230983\n",
            "\t0.005568604149255373\n",
            "\t-0.2674248575335652\n",
            "\t-0.014644271074137785\n",
            "\t0.00942733895341508\n",
            "\t0.0012521896235564848\n",
            "\t-0.27686671469076035\n",
            "\t-0.11419131061186413\n",
            "\t-0.21257357736429325\n",
            "\t-0.4512617591636607\n",
            "\t-0.3118567307555348\n",
            "\t-0.06081196749338568\n",
            "Ridge accuracy on test set: 0.06206022123567792\n",
            "Elasticnet Coefficient:\n",
            "\t-0.0\n",
            "\t-0.0\n",
            "\t-0.0\n",
            "\t0.0\n",
            "\t-0.0\n",
            "\t-0.0\n",
            "\t-0.0\n",
            "\t-0.0\n",
            "\t-0.0\n",
            "\t-0.0\n",
            "\t-0.0\n",
            "\t-0.0\n",
            "\t-0.0\n",
            "\t0.0\n",
            "\t-0.0\n",
            "\t-0.0\n",
            "\t-0.0\n",
            "\t-0.0\n",
            "\t-0.0\n",
            "\t-0.0\n",
            "\t-0.0\n",
            "\t-0.0008601143429825037\n",
            "\t-0.010642182151360069\n",
            "\t-1.1048645494854392e-05\n",
            "\t-0.0\n",
            "\t-0.0\n",
            "\t-0.0\n",
            "\t-0.0\n",
            "\t-0.0\n",
            "\t-0.0\n",
            "Elasticnet accuracy on test set: 0.0960043909202953\n"
          ]
        }
      ],
      "source": [
        "from sklearn.linear_model import LogisticRegression\n",
        "from sklearn.linear_model import Lasso, Ridge, ElasticNet\n",
        "from sklearn.metrics import mean_squared_error\n",
        "# Write code here\n",
        "\n",
        "# Lasso\n",
        "lasso = Lasso()\n",
        "lasso.fit(x_train, y_train)\n",
        "y_pred = lasso.predict(x_test)\n",
        "lasso_mse = mean_squared_error(y_test, y_pred)\n",
        "print(\"Lasso Coefficient:\", *lasso.coef_, sep='\\n\\t')\n",
        "print(f\"Lasso accuracy on test set: {lasso_mse}\")\n",
        "\n",
        "# Ridge\n",
        "ridge = Ridge()\n",
        "ridge.fit(x_train, y_train)\n",
        "y_pred = ridge.predict(x_test)\n",
        "ridge_mse =  mean_squared_error(y_test, y_pred)\n",
        "print(\"Ridge Coefficient:\", *ridge.coef_, sep='\\n\\t')\n",
        "print(f\"Ridge accuracy on test set: {ridge_mse}\")\n",
        "\n",
        "# elasticnet\n",
        "elasticnet = ElasticNet()\n",
        "elasticnet.fit(x_train, y_train)\n",
        "y_pred = elasticnet.predict(x_test)\n",
        "elastic_mse =  mean_squared_error(y_test, y_pred)\n",
        "print(\"Elasticnet Coefficient:\", *elasticnet.coef_, sep='\\n\\t')\n",
        "print(f\"Elasticnet accuracy on test set: {elastic_mse}\")"
      ],
      "metadata": {
        "pycharm": {
          "name": "#%%\n"
        },
        "colab": {
          "base_uri": "https://localhost:8080/"
        },
        "id": "TSELu38E-4RJ",
        "outputId": "e18a3be1-4305-4c23-fcb8-a1a91a4bd238"
      }
    },
    {
      "cell_type": "markdown",
      "source": [
        "## 1. Accuracy is a classification metrics and hence cannot be used here\n",
        "## 2. Comparision is below:"
      ],
      "metadata": {
        "id": "FSyw-s6tFFpD"
      }
    },
    {
      "cell_type": "code",
      "source": [
        "import numpy as np\n",
        "metrics = np.array([[lasso_mse, ridge_mse, elastic_mse]])\n",
        "metrics_pd = pd.DataFrame(metrics, columns = ['Lasso', 'Ridge', 'Elasticnet'])\n",
        "metrics_pd"
      ],
      "metadata": {
        "colab": {
          "base_uri": "https://localhost:8080/",
          "height": 81
        },
        "id": "jj7AykE7FSW8",
        "outputId": "4463fa68-4b8e-4e39-dfbd-11f174aebdcf"
      },
      "execution_count": 28,
      "outputs": [
        {
          "output_type": "execute_result",
          "data": {
            "text/plain": [
              "      Lasso    Ridge  Elasticnet\n",
              "0  0.118545  0.06206    0.096004"
            ],
            "text/html": [
              "\n",
              "  <div id=\"df-93db535d-f1dc-4efa-a03d-e8fd40f4bf80\">\n",
              "    <div class=\"colab-df-container\">\n",
              "      <div>\n",
              "<style scoped>\n",
              "    .dataframe tbody tr th:only-of-type {\n",
              "        vertical-align: middle;\n",
              "    }\n",
              "\n",
              "    .dataframe tbody tr th {\n",
              "        vertical-align: top;\n",
              "    }\n",
              "\n",
              "    .dataframe thead th {\n",
              "        text-align: right;\n",
              "    }\n",
              "</style>\n",
              "<table border=\"1\" class=\"dataframe\">\n",
              "  <thead>\n",
              "    <tr style=\"text-align: right;\">\n",
              "      <th></th>\n",
              "      <th>Lasso</th>\n",
              "      <th>Ridge</th>\n",
              "      <th>Elasticnet</th>\n",
              "    </tr>\n",
              "  </thead>\n",
              "  <tbody>\n",
              "    <tr>\n",
              "      <th>0</th>\n",
              "      <td>0.118545</td>\n",
              "      <td>0.06206</td>\n",
              "      <td>0.096004</td>\n",
              "    </tr>\n",
              "  </tbody>\n",
              "</table>\n",
              "</div>\n",
              "      <button class=\"colab-df-convert\" onclick=\"convertToInteractive('df-93db535d-f1dc-4efa-a03d-e8fd40f4bf80')\"\n",
              "              title=\"Convert this dataframe to an interactive table.\"\n",
              "              style=\"display:none;\">\n",
              "        \n",
              "  <svg xmlns=\"http://www.w3.org/2000/svg\" height=\"24px\"viewBox=\"0 0 24 24\"\n",
              "       width=\"24px\">\n",
              "    <path d=\"M0 0h24v24H0V0z\" fill=\"none\"/>\n",
              "    <path d=\"M18.56 5.44l.94 2.06.94-2.06 2.06-.94-2.06-.94-.94-2.06-.94 2.06-2.06.94zm-11 1L8.5 8.5l.94-2.06 2.06-.94-2.06-.94L8.5 2.5l-.94 2.06-2.06.94zm10 10l.94 2.06.94-2.06 2.06-.94-2.06-.94-.94-2.06-.94 2.06-2.06.94z\"/><path d=\"M17.41 7.96l-1.37-1.37c-.4-.4-.92-.59-1.43-.59-.52 0-1.04.2-1.43.59L10.3 9.45l-7.72 7.72c-.78.78-.78 2.05 0 2.83L4 21.41c.39.39.9.59 1.41.59.51 0 1.02-.2 1.41-.59l7.78-7.78 2.81-2.81c.8-.78.8-2.07 0-2.86zM5.41 20L4 18.59l7.72-7.72 1.47 1.35L5.41 20z\"/>\n",
              "  </svg>\n",
              "      </button>\n",
              "      \n",
              "  <style>\n",
              "    .colab-df-container {\n",
              "      display:flex;\n",
              "      flex-wrap:wrap;\n",
              "      gap: 12px;\n",
              "    }\n",
              "\n",
              "    .colab-df-convert {\n",
              "      background-color: #E8F0FE;\n",
              "      border: none;\n",
              "      border-radius: 50%;\n",
              "      cursor: pointer;\n",
              "      display: none;\n",
              "      fill: #1967D2;\n",
              "      height: 32px;\n",
              "      padding: 0 0 0 0;\n",
              "      width: 32px;\n",
              "    }\n",
              "\n",
              "    .colab-df-convert:hover {\n",
              "      background-color: #E2EBFA;\n",
              "      box-shadow: 0px 1px 2px rgba(60, 64, 67, 0.3), 0px 1px 3px 1px rgba(60, 64, 67, 0.15);\n",
              "      fill: #174EA6;\n",
              "    }\n",
              "\n",
              "    [theme=dark] .colab-df-convert {\n",
              "      background-color: #3B4455;\n",
              "      fill: #D2E3FC;\n",
              "    }\n",
              "\n",
              "    [theme=dark] .colab-df-convert:hover {\n",
              "      background-color: #434B5C;\n",
              "      box-shadow: 0px 1px 3px 1px rgba(0, 0, 0, 0.15);\n",
              "      filter: drop-shadow(0px 1px 2px rgba(0, 0, 0, 0.3));\n",
              "      fill: #FFFFFF;\n",
              "    }\n",
              "  </style>\n",
              "\n",
              "      <script>\n",
              "        const buttonEl =\n",
              "          document.querySelector('#df-93db535d-f1dc-4efa-a03d-e8fd40f4bf80 button.colab-df-convert');\n",
              "        buttonEl.style.display =\n",
              "          google.colab.kernel.accessAllowed ? 'block' : 'none';\n",
              "\n",
              "        async function convertToInteractive(key) {\n",
              "          const element = document.querySelector('#df-93db535d-f1dc-4efa-a03d-e8fd40f4bf80');\n",
              "          const dataTable =\n",
              "            await google.colab.kernel.invokeFunction('convertToInteractive',\n",
              "                                                     [key], {});\n",
              "          if (!dataTable) return;\n",
              "\n",
              "          const docLinkHtml = 'Like what you see? Visit the ' +\n",
              "            '<a target=\"_blank\" href=https://colab.research.google.com/notebooks/data_table.ipynb>data table notebook</a>'\n",
              "            + ' to learn more about interactive tables.';\n",
              "          element.innerHTML = '';\n",
              "          dataTable['output_type'] = 'display_data';\n",
              "          await google.colab.output.renderOutput(dataTable, element);\n",
              "          const docLink = document.createElement('div');\n",
              "          docLink.innerHTML = docLinkHtml;\n",
              "          element.appendChild(docLink);\n",
              "        }\n",
              "      </script>\n",
              "    </div>\n",
              "  </div>\n",
              "  "
            ]
          },
          "metadata": {},
          "execution_count": 28
        }
      ]
    },
    {
      "cell_type": "markdown",
      "source": [
        "# KNN\n",
        "Compare KNN vs logistic regression\n",
        "\n",
        "---\n",
        "In ML images can be flattened to 1D vector of pixels, then we can train our\n",
        "models on them considering each pixel as a feature."
      ],
      "metadata": {
        "collapsed": false,
        "id": "x9tPBwlj-4RJ"
      }
    },
    {
      "cell_type": "code",
      "execution_count": 29,
      "outputs": [
        {
          "output_type": "stream",
          "name": "stdout",
          "text": [
            "Dataset shape (1797, 8, 8)\n"
          ]
        },
        {
          "output_type": "display_data",
          "data": {
            "text/plain": [
              "<Figure size 432x288 with 1 Axes>"
            ],
            "image/png": "[encoded data removed]"
          },
          "metadata": {
            "needs_background": "light"
          }
        },
        {
          "output_type": "stream",
          "name": "stdout",
          "text": [
            "Now we have 1797 images flattened to 64-values vectors\n"
          ]
        }
      ],
      "source": [
        "# Based on https://github.com/hsu-ai-course/hsu.ai/blob/master/code/12.%20kNN%20and%20ANN%20for%20MNIST.ipynb\n",
        "digits = load_digits()\n",
        "\n",
        "print(\"Dataset shape\", digits.images.shape)\n",
        "\n",
        "# show first image\n",
        "plt.title(f\"Target: {digits.target[0]}\")\n",
        "plt.imshow(digits.images[0], cmap='gray')\n",
        "plt.show()\n",
        "\n",
        "# To apply an classifier on this data, we need to flatten the image, to\n",
        "# turn the data in a (samples, feature) matrix:\n",
        "n_samples = len(digits.images)\n",
        "X = digits.images.reshape((n_samples, -1))\n",
        "y = digits.target\n",
        "print(\"Now we have {} images flattened to {}-values vectors\".format(*X.shape))"
      ],
      "metadata": {
        "pycharm": {
          "name": "#%%\n"
        },
        "colab": {
          "base_uri": "https://localhost:8080/",
          "height": 316
        },
        "id": "xi4AK0JG-4RJ",
        "outputId": "4dcc192f-cff6-455b-c584-967c35df8293"
      }
    },
    {
      "cell_type": "code",
      "execution_count": 30,
      "outputs": [],
      "source": [
        "# Split the dataset\n",
        "X_train, X_test, y_train, y_test = train_test_split(X, y, test_size=0.2, random_state=0)"
      ],
      "metadata": {
        "pycharm": {
          "name": "#%%\n"
        },
        "id": "4lGNmonN-4RJ"
      }
    },
    {
      "cell_type": "markdown",
      "source": [
        "Train a KNN and LR models and compare their results"
      ],
      "metadata": {
        "collapsed": false,
        "id": "502IorPd-4RK"
      }
    },
    {
      "cell_type": "code",
      "execution_count": 32,
      "outputs": [
        {
          "output_type": "stream",
          "name": "stdout",
          "text": [
            "KNN               precision    recall  f1-score   support\n",
            "\n",
            "           0       1.00      1.00      1.00        27\n",
            "           1       0.97      0.97      0.97        35\n",
            "           2       1.00      0.97      0.99        36\n",
            "           3       0.91      1.00      0.95        29\n",
            "           4       1.00      0.97      0.98        30\n",
            "           5       0.95      0.97      0.96        40\n",
            "           6       1.00      1.00      1.00        44\n",
            "           7       0.95      1.00      0.97        39\n",
            "           8       1.00      0.90      0.95        39\n",
            "           9       0.98      0.98      0.98        41\n",
            "\n",
            "    accuracy                           0.97       360\n",
            "   macro avg       0.98      0.98      0.98       360\n",
            "weighted avg       0.98      0.97      0.97       360\n",
            "\n",
            "LR               precision    recall  f1-score   support\n",
            "\n",
            "           0       1.00      1.00      1.00        27\n",
            "           1       0.92      0.97      0.94        35\n",
            "           2       0.97      0.97      0.97        36\n",
            "           3       0.97      1.00      0.98        29\n",
            "           4       0.97      0.97      0.97        30\n",
            "           5       0.97      0.93      0.95        40\n",
            "           6       1.00      0.98      0.99        44\n",
            "           7       0.97      0.97      0.97        39\n",
            "           8       0.97      0.92      0.95        39\n",
            "           9       0.93      0.98      0.95        41\n",
            "\n",
            "    accuracy                           0.97       360\n",
            "   macro avg       0.97      0.97      0.97       360\n",
            "weighted avg       0.97      0.97      0.97       360\n",
            "\n"
          ]
        },
        {
          "output_type": "stream",
          "name": "stderr",
          "text": [
            "/usr/local/lib/python3.7/dist-packages/sklearn/linear_model/_logistic.py:818: ConvergenceWarning: lbfgs failed to converge (status=1):\n",
            "STOP: TOTAL NO. of ITERATIONS REACHED LIMIT.\n",
            "\n",
            "Increase the number of iterations (max_iter) or scale the data as shown in:\n",
            "    https://scikit-learn.org/stable/modules/preprocessing.html\n",
            "Please also refer to the documentation for alternative solver options:\n",
            "    https://scikit-learn.org/stable/modules/linear_model.html#logistic-regression\n",
            "  extra_warning_msg=_LOGISTIC_SOLVER_CONVERGENCE_MSG,\n"
          ]
        }
      ],
      "source": [
        "from sklearn.neighbors import KNeighborsClassifier\n",
        "from sklearn.linear_model import LogisticRegression\n",
        "\n",
        "# Write code here\n",
        "# knn for k = 5\n",
        "knn = KNeighborsClassifier(n_neighbors = 5)\n",
        "knn.fit(X_train, y_train)\n",
        "y_true, y_pred = y_test, knn.predict(X_test)\n",
        "print('KNN', classification_report(y_true, y_pred))\n",
        "\n",
        "#Logistic Regression\n",
        "LR =  model = LogisticRegression()\n",
        "LR.fit(X_train, y_train)\n",
        "y_true, y_pred = y_test, LR.predict(X_test)\n",
        "print('LR', classification_report(y_true, y_pred))"
      ],
      "metadata": {
        "pycharm": {
          "name": "#%%\n"
        },
        "colab": {
          "base_uri": "https://localhost:8080/"
        },
        "id": "jSej92Jw-4RK",
        "outputId": "b4fdc1a7-6e41-4a82-fb06-849f48dded7e"
      }
    },
    {
      "cell_type": "markdown",
      "source": [
        "Which model performed better? What is the advantages of each model over the other?\n",
        "\n",
        "What is the output of `classification_report` function? How to interpret it?"
      ],
      "metadata": {
        "collapsed": false,
        "id": "Czkr_1mC-4RK"
      }
    },
    {
      "cell_type": "markdown",
      "source": [
        "## Answer:  \n",
        "*  ## Both of them performed almost the same, but in precision we can see `KNN` has a `weighted average` of `0.98`. Thus, we can say `Knn` very slightly gave better result than `logistic regression`.\n",
        "\n",
        "* ## A Classification report is used to measure the quality of predictions from a classification algorithm. How many predictions are True and how many are False. More specifically, True Positives, False Positives, True negatives and False Negatives\n",
        "\n",
        "* ## `Interpretation:` We have 9 classes/labels thus, there are 9 indices, but we can easily assess the results based on average"
      ],
      "metadata": {
        "id": "FWxSh0QFG2FC"
      }
    }
  ],
  "metadata": {
    "kernelspec": {
      "display_name": "Python 3",
      "language": "python",
      "name": "python3"
    },
    "language_info": {
      "codemirror_mode": {
        "name": "ipython",
        "version": 2
      },
      "file_extension": ".py",
      "mimetype": "text/x-python",
      "name": "python",
      "nbconvert_exporter": "python",
      "pygments_lexer": "ipython2",
      "version": "2.7.6"
    },
    "colab": {
      "provenance": [],
      "include_colab_link": true
    }
  },
  "nbformat": 4,
  "nbformat_minor": 0
}