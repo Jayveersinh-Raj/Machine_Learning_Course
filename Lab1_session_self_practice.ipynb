{
  "cells": [
    {
      "cell_type": "markdown",
      "metadata": {
        "id": "view-in-github",
        "colab_type": "text"
      },
      "source": [
        "<a href=\"https://colab.research.google.com/github/Jayveersinh-Raj/Machine_Learning_IU_Labs/blob/main/Lab_1_session.ipynb\" target=\"_parent\"><img src=\"https://colab.research.google.com/assets/colab-badge.svg\" alt=\"Open In Colab\"/></a>"
      ]
    },
    {
      "cell_type": "markdown",
      "metadata": {
        "id": "edTAF_nryDdv"
      },
      "source": [
        "# Lab 1: Crash course on Python\n",
        "Python is a general purpose programming language and one of the most popular\n",
        "programming languages. It is widely used in the scientific community because\n",
        "of its ease of use and simple syntax. Python also offers a large collection of\n",
        "libraries that help to solve complex problems easily and build strong system\n",
        "and data application.\n",
        "\n",
        "[PEP8](https://realpython.com/python-pep8/) is one of the standards that\n",
        "specifies guidelines and best practices on how to write Python code"
      ]
    },
    {
      "cell_type": "markdown",
      "metadata": {
        "id": "4zXYMAjvyDdy"
      },
      "source": [
        "---\n",
        "## Variables and Datatypes\n",
        "Python has different data types, here is the most common ones\n",
        "\n",
        "| Data Types   | Examples            | Explanation          | Mutable? |\n",
        "| ------------ | ------------------- | -------------------- | -------- |\n",
        "| Strings      | \"Hi!\", '1.3'        | Text                 | No       |\n",
        "| Integers     | 49                  | Whole numbers        | No       |\n",
        "| Floats       | 3.14                | Decimal Numbers      | No       |\n",
        "| Booleans     | True, False         | Truth values         | No       |\n",
        "| Lists        | \\[1, 'a', [1.5, 2]\\]| A collection of data | Yes      |\n",
        "| Tuples       | (1, 2, 3, 4, 5)     | A collection of data | Yes      |\n",
        "| Dictionaries | {\"a\": 1, \"b\": True} | A collection of data | Yes      |"
      ]
    },
    {
      "cell_type": "code",
      "execution_count": 55,
      "metadata": {
        "colab": {
          "base_uri": "https://localhost:8080/"
        },
        "id": "x5aCZth7yDdz",
        "outputId": "d378decc-6d8c-463f-de22-c52070286f59"
      },
      "outputs": [
        {
          "output_type": "stream",
          "name": "stdout",
          "text": [
            "Student: Anna got A\n",
            "Variables data types\n",
            "var_1 <class 'str'>\n",
            "var_2 <class 'int'>\n",
            "var_3 <class 'float'>\n",
            "var_4 <class 'list'>\n",
            "var_5 <class 'dict'>\n"
          ]
        }
      ],
      "source": [
        "# Assigning data to variables\n",
        "var_1 = \"Hello World\"\n",
        "var_2 = 254\n",
        "var_3 = 25.43\n",
        "var_4 = [\"Anna\", \"Bella\", \"Cora\"]\n",
        "var_5 = {'Course': 'ML', 'Grade': 'A'} # key: value\n",
        "\n",
        "# You can access List elements with their index\n",
        "# and access Dict elements with their key\n",
        "print('Student:', var_4[0], 'got', var_5['Grade'])\n",
        "\n",
        "# When in doubt you can always check data types\n",
        "print('Variables data types')\n",
        "print('var_1', type(var_1))\n",
        "print('var_2', type(var_2))\n",
        "print('var_3', type(var_3))\n",
        "print('var_4', type(var_4))\n",
        "print('var_5', type(var_5))"
      ]
    },
    {
      "cell_type": "markdown",
      "metadata": {
        "id": "KaoUA4wSyDd0"
      },
      "source": [
        "Using list and tuple"
      ]
    },
    {
      "cell_type": "code",
      "execution_count": 56,
      "metadata": {
        "colab": {
          "base_uri": "https://localhost:8080/"
        },
        "id": "1EGYECNTyDd0",
        "outputId": "00aea994-40e6-4605-bcc2-135c989fa52c"
      },
      "outputs": [
        {
          "output_type": "stream",
          "name": "stdout",
          "text": [
            "[2, 2, 3] [2, 2, 3]\n"
          ]
        }
      ],
      "source": [
        "x = [1, 2, 3]  # creating a list\n",
        "y = x  # assigning a reference\n",
        "y[0] += 1\n",
        "# The change is in both x and y because both point to the same object\n",
        "print(x, y)"
      ]
    },
    {
      "cell_type": "code",
      "execution_count": 57,
      "metadata": {
        "colab": {
          "base_uri": "https://localhost:8080/"
        },
        "id": "wvkhOPdryDd1",
        "outputId": "5a961b3c-f4b1-4839-e4f7-bd68ca6a6b2f"
      },
      "outputs": [
        {
          "output_type": "stream",
          "name": "stdout",
          "text": [
            "(1, 2, 3) (1, 2, 3, 4, 5)\n"
          ]
        }
      ],
      "source": [
        "x = (1, 2, 3)  # creating a tuple\n",
        "y = x\n",
        "# y[0] += 1 gives error because it's immutable\n",
        "y += (4, 5)  # a new tuple is generated to\n",
        "print(x, y)"
      ]
    },
    {
      "cell_type": "code",
      "execution_count": 58,
      "metadata": {
        "colab": {
          "base_uri": "https://localhost:8080/"
        },
        "id": "eBWZHs25yDd1",
        "outputId": "81587b54-a12c-4ba3-8a1d-84439c0fd411"
      },
      "outputs": [
        {
          "output_type": "stream",
          "name": "stdout",
          "text": [
            "x size: 10\n",
            "The second element in x: 2\n",
            "The last element in x: 10\n",
            "The first 3 elements in x: [1, 2, 3]\n"
          ]
        }
      ],
      "source": [
        "x = [1, 2, 3, 4, 5, 6, 7, 8, 9, 10]\n",
        "print('x size:', len(x))\n",
        "print('The second element in x:', x[1])\n",
        "print('The last element in x:', x[-1])\n",
        "print('The first 3 elements in x:', x[:3])  # also x[0: 3] works"
      ]
    },
    {
      "cell_type": "markdown",
      "metadata": {
        "id": "zKinRkghyDd2"
      },
      "source": [
        "### Task 1:\n",
        "Print the last 3 elements of x"
      ]
    },
    {
      "cell_type": "code",
      "execution_count": 59,
      "metadata": {
        "id": "UPyjBwGHyDd2",
        "colab": {
          "base_uri": "https://localhost:8080/"
        },
        "outputId": "d75bf10f-ea90-41c5-8bd9-50bf470ddd1f"
      },
      "outputs": [
        {
          "output_type": "stream",
          "name": "stdout",
          "text": [
            "The last three:  10 9 8\n"
          ]
        }
      ],
      "source": [
        "# Solve here\n",
        "print(\"The last three: \", x[-1], x[-2], x[-3])\n"
      ]
    },
    {
      "cell_type": "markdown",
      "metadata": {
        "id": "4Cv8JVbyyDd2"
      },
      "source": [
        "## Operators\n",
        "[Reference](https://www.geeksforgeeks.org/python-operators/)\n",
        "\n",
        "When dealing with data, knowing python operators and how they work can make\n",
        "your code smaller and more efficient.\n",
        "\n",
        "We will look at the operator that might be new to you.\n",
        "Refer to this [reference](https://www.geeksforgeeks.org/python-operators/)\n",
        "for all the operations.\n",
        "\n",
        "| Operator | Description                                               | Syntax        |\n",
        "| -------- | --------------------------------------------------------- | ------------- |\n",
        "| //       | Division (floor): divides the first operand by the second | x//y          |\n",
        "| **       | Power: Returns first raised to power second               | x**y          |\n",
        "| is       | True if the operands are identical                        | x**y          |\n",
        "| is not   | True if the operands are not identical                    | x**y          |\n",
        "| in       | True if value is found in the sequence                    | x**y          |\n",
        "| not in   | True if value is not found in the sequence                | x**y          |\n",
        "| Ternary  | testing a condition in a single line                      | x if a else y |"
      ]
    },
    {
      "cell_type": "code",
      "execution_count": 60,
      "metadata": {
        "colab": {
          "base_uri": "https://localhost:8080/"
        },
        "id": "1QMmIASmyDd3",
        "outputId": "1398ed4a-9ccc-4642-abbd-fa2daa229805"
      },
      "outputs": [
        {
          "output_type": "stream",
          "name": "stdout",
          "text": [
            "3.3333333333333335 3\n"
          ]
        }
      ],
      "source": [
        "# //\tDivision (floor): divides and floor the output\n",
        "a = 10\n",
        "b = 3\n",
        "div = a / b\n",
        "div_floor = a // b\n",
        "\n",
        "print(div, div_floor)"
      ]
    },
    {
      "cell_type": "code",
      "execution_count": 61,
      "metadata": {
        "colab": {
          "base_uri": "https://localhost:8080/"
        },
        "id": "79f5UrnWyDd3",
        "outputId": "4fa76014-49d6-4809-a0f3-91287b95236d"
      },
      "outputs": [
        {
          "output_type": "stream",
          "name": "stdout",
          "text": [
            "2\n",
            "-3\n"
          ]
        }
      ],
      "source": [
        "# negative division could be counter intuitive\n",
        "print (5//2)\n",
        "print (-5//2) # floor(-2.333) gives the integer smaller -> -3\n"
      ]
    },
    {
      "cell_type": "code",
      "execution_count": 62,
      "metadata": {
        "colab": {
          "base_uri": "https://localhost:8080/"
        },
        "id": "XJdfykY7yDd4",
        "outputId": "4d973004-3e26-48a5-a06a-07ea65539d25"
      },
      "outputs": [
        {
          "output_type": "stream",
          "name": "stdout",
          "text": [
            "1000\n"
          ]
        }
      ],
      "source": [
        "# Power\n",
        "pwr = a ** b\n",
        "print(pwr)"
      ]
    },
    {
      "cell_type": "code",
      "execution_count": 63,
      "metadata": {
        "colab": {
          "base_uri": "https://localhost:8080/"
        },
        "id": "j67iBKMZyDd4",
        "outputId": "e222402e-ae60-4f76-aab9-2cc938704fc7"
      },
      "outputs": [
        {
          "output_type": "stream",
          "name": "stdout",
          "text": [
            "True\n",
            "True\n"
          ]
        }
      ],
      "source": [
        "# is, is not\n",
        "c = a\n",
        "print(a is not b)\n",
        "print(a is c)"
      ]
    },
    {
      "cell_type": "code",
      "execution_count": 64,
      "metadata": {
        "colab": {
          "base_uri": "https://localhost:8080/"
        },
        "id": "uicdgjNdyDd4",
        "outputId": "17187c5d-757d-4445-bb5d-df6f2d6d878d"
      },
      "outputs": [
        {
          "output_type": "stream",
          "name": "stdout",
          "text": [
            "True\n",
            "True\n"
          ]
        }
      ],
      "source": [
        "# in, not in\n",
        "x, y = 24, 20\n",
        "l = [10, 20, 30, 40, 50]\n",
        "\n",
        "print(x not in l)\n",
        "print(y in l)\n"
      ]
    },
    {
      "cell_type": "code",
      "execution_count": 65,
      "metadata": {
        "colab": {
          "base_uri": "https://localhost:8080/"
        },
        "id": "dwo-b2StyDd4",
        "outputId": "e8d98ccb-ec31-4328-a9c4-53e8e605e9e4"
      },
      "outputs": [
        {
          "output_type": "stream",
          "name": "stdout",
          "text": [
            "3\n",
            "3\n"
          ]
        }
      ],
      "source": [
        "# Ternary operator\n",
        "if a < b:\n",
        "    print(a)\n",
        "else:\n",
        "    print(b)\n",
        "\n",
        "# [on_true] if [expression] else [on_false]\n",
        "minimum = a if a < b else b\n",
        "print(minimum)"
      ]
    },
    {
      "cell_type": "markdown",
      "metadata": {
        "id": "uKHdF4yJyDd5"
      },
      "source": [
        "## Iteration\n",
        "The 2 main loops in python are `while` and `for` loops\n",
        "\n",
        "[Reference](https://www.geeksforgeeks.org/loops-in-python/)"
      ]
    },
    {
      "cell_type": "code",
      "execution_count": 66,
      "metadata": {
        "colab": {
          "base_uri": "https://localhost:8080/"
        },
        "id": "0HTkBk4byDd5",
        "outputId": "43620183-f171-4a6a-e0c3-6ec4418a746a"
      },
      "outputs": [
        {
          "output_type": "stream",
          "name": "stdout",
          "text": [
            "count =  1\n",
            "count =  2\n",
            "count =  3\n"
          ]
        }
      ],
      "source": [
        "# While loop\n",
        "count = 0\n",
        "while count < 3:\n",
        "    count = count + 1\n",
        "    print(\"count = \", count)"
      ]
    },
    {
      "cell_type": "code",
      "execution_count": 67,
      "metadata": {
        "colab": {
          "base_uri": "https://localhost:8080/"
        },
        "id": "ch5cztotyDd5",
        "outputId": "b934564d-8c22-4923-ebee-2f34f1682b56"
      },
      "outputs": [
        {
          "output_type": "stream",
          "name": "stdout",
          "text": [
            "count =  1\n",
            "count =  2\n",
            "count =  3\n",
            "In the else. count =  3\n"
          ]
        }
      ],
      "source": [
        "# Combining else with while to execute something after the loop\n",
        "count = 0\n",
        "while count < 3:\n",
        "    count = count + 1\n",
        "    print(\"count = \", count)\n",
        "else:\n",
        "    print(\"In the else. count = \", count)"
      ]
    },
    {
      "cell_type": "markdown",
      "metadata": {
        "id": "47Mp6O8JyDd6"
      },
      "source": [
        "[`range()`](https://docs.python.org/3/library/functions.html#func-range) is\n",
        "a built-in generator function that is used to generate numbers in a given range.\n",
        "\n",
        "It takes up to 3 parameter `start`, `stop`, `step`.\n",
        "If not given,`start` defaults to `0`, and `step` to `1`.\n",
        "\n",
        "Examples:\n",
        "- `range(0, 10, 1)` -> `[0, 1, 2, ..., 9]`. note that `stop` isn't included.\n",
        "- `range(0, 10, 2)` -> `[0, 2, 4, 6, 8]`. even numbers.\n",
        "- `range(0, 10)` -> Only `start` and `stop`. same as `range(0, 10, 1)`.\n",
        "- `range(10)` -> Only `stop`. same as `range(0, 10, 1)`.\n",
        "- `range(10, 0, -1)` -> `[10, 9, 8, ..., 1]`."
      ]
    },
    {
      "cell_type": "code",
      "execution_count": 68,
      "metadata": {
        "colab": {
          "base_uri": "https://localhost:8080/"
        },
        "id": "vy3eEpMkyDd6",
        "outputId": "ac99acb8-33a0-4c50-b765-50cd07e9aa53"
      },
      "outputs": [
        {
          "output_type": "stream",
          "name": "stdout",
          "text": [
            "looping over list elements by index using \"rang()\"\n",
            "10\n",
            "20\n",
            "30\n",
            "40\n",
            "looping over list elements using \"in\"\n",
            "10\n",
            "20\n",
            "30\n",
            "40\n"
          ]
        }
      ],
      "source": [
        "# range for loop\n",
        "my_list = [10, 20, 30, 40]\n",
        "print('looping over list elements by index using \"rang()\"')\n",
        "for i in range(0, len(my_list)):\n",
        "    print(my_list[i])\n",
        "\n",
        "print('looping over list elements using \"in\"')\n",
        "for element in my_list:\n",
        "    print(element)"
      ]
    },
    {
      "cell_type": "code",
      "execution_count": 69,
      "metadata": {
        "colab": {
          "base_uri": "https://localhost:8080/"
        },
        "id": "9SrausX4yDd6",
        "outputId": "122cd0e0-91d0-4f12-d6a1-2f70d9960037"
      },
      "outputs": [
        {
          "output_type": "stream",
          "name": "stdout",
          "text": [
            "looping over list elements by index using \"rang()\"\n",
            "10\n",
            "30\n",
            "50\n"
          ]
        }
      ],
      "source": [
        "my_list = [10, 20, 30, 40, 50, 60, 70, 80]\n",
        "print('looping over list elements by index using \"rang()\"')\n",
        "for i in range(0, len(my_list)):\n",
        "    if i == 5:  # break the loop after 5 iterations\n",
        "        break\n",
        "    elif i%2 == 1:  # skipping odd indices\n",
        "        continue\n",
        "    print(my_list[i])"
      ]
    },
    {
      "cell_type": "markdown",
      "metadata": {
        "id": "SRMwAoauyDd6"
      },
      "source": [
        "### Task 2:\n",
        "Make a list that have all the integers from 0 to 99 that is divisible by 4 but\n",
        "not divisible by 6.\n",
        "\n",
        "Hint: `my_list.append(a)` add `a` to the end of the `my_list`."
      ]
    },
    {
      "cell_type": "code",
      "execution_count": 70,
      "metadata": {
        "colab": {
          "base_uri": "https://localhost:8080/"
        },
        "id": "KrxdL5NwyDd7",
        "outputId": "7b317a4a-da6b-4a3d-eae1-9987c857ce46"
      },
      "outputs": [
        {
          "output_type": "execute_result",
          "data": {
            "text/plain": [
              "[10,\n",
              " 20,\n",
              " 30,\n",
              " 40,\n",
              " 50,\n",
              " 60,\n",
              " 70,\n",
              " 80,\n",
              " 2,\n",
              " 4,\n",
              " 8,\n",
              " 10,\n",
              " 14,\n",
              " 16,\n",
              " 20,\n",
              " 22,\n",
              " 26,\n",
              " 28,\n",
              " 32,\n",
              " 34,\n",
              " 38,\n",
              " 40,\n",
              " 44,\n",
              " 46,\n",
              " 50,\n",
              " 52,\n",
              " 56,\n",
              " 58,\n",
              " 62,\n",
              " 64,\n",
              " 68,\n",
              " 70,\n",
              " 74,\n",
              " 76,\n",
              " 80,\n",
              " 82,\n",
              " 86,\n",
              " 88,\n",
              " 92,\n",
              " 94,\n",
              " 98]"
            ]
          },
          "metadata": {},
          "execution_count": 70
        }
      ],
      "source": [
        "# Solve here\n",
        "for i in range(100):\n",
        "  if (i % 2 == 0 and  i % 3 != 0):\n",
        "           my_list.append(i)\n",
        "my_list"
      ]
    },
    {
      "cell_type": "markdown",
      "metadata": {
        "id": "zTfrPAL0yDd7"
      },
      "source": [
        "## Functions\n",
        "Functions is very useful to use a block of code multiple time."
      ]
    },
    {
      "cell_type": "code",
      "execution_count": 71,
      "metadata": {
        "colab": {
          "base_uri": "https://localhost:8080/"
        },
        "id": "kHdYuOa5yDd7",
        "outputId": "89689408-cb74-4078-800b-c7cc48bb384d"
      },
      "outputs": [
        {
          "output_type": "stream",
          "name": "stdout",
          "text": [
            "Hi from a function\n",
            "Hi from a function\n"
          ]
        }
      ],
      "source": [
        "def my_function_name():\n",
        "    print('Hi from a function')\n",
        "\n",
        "my_function_name()\n",
        "my_function_name()"
      ]
    },
    {
      "cell_type": "code",
      "execution_count": 72,
      "metadata": {
        "colab": {
          "base_uri": "https://localhost:8080/"
        },
        "id": "f1zmGsHdyDd7",
        "outputId": "b47936f1-9967-4c59-f67c-3c3a434f56ff"
      },
      "outputs": [
        {
          "output_type": "stream",
          "name": "stdout",
          "text": [
            "6\n"
          ]
        }
      ],
      "source": [
        "def double(x):\n",
        "    return x * 2\n",
        "\n",
        "print(double(3))"
      ]
    },
    {
      "cell_type": "markdown",
      "metadata": {
        "id": "lGbNtOAMyDd7"
      },
      "source": [
        "## Classes\n",
        "Python is OOP langauge. Here are how classes are used\n",
        "\n",
        "[Reference](https://www.geeksforgeeks.org/python-classes-and-objects/)"
      ]
    },
    {
      "cell_type": "code",
      "execution_count": 73,
      "metadata": {
        "colab": {
          "base_uri": "https://localhost:8080/"
        },
        "id": "699Y82gZyDd7",
        "outputId": "1a28a78d-9434-4840-f5af-18cfeddcf2c4"
      },
      "outputs": [
        {
          "output_type": "stream",
          "name": "stdout",
          "text": [
            "mammal\n",
            "I'm a mammal\n",
            "I'm a dog\n"
          ]
        }
      ],
      "source": [
        "class Dog:\n",
        "\n",
        "    # A simple class\n",
        "    # attribute\n",
        "    attr1 = \"mammal\"\n",
        "    attr2 = \"dog\"\n",
        "\n",
        "    # A sample method\n",
        "    def fun(self):\n",
        "        print(\"I'm a\", self.attr1)\n",
        "        print(\"I'm a\", self.attr2)\n",
        "\n",
        "# Object instantiation\n",
        "Rodger = Dog()\n",
        "\n",
        "# Accessing class attributes\n",
        "# and method through objects\n",
        "print(Rodger.attr1)\n",
        "Rodger.fun()"
      ]
    },
    {
      "cell_type": "markdown",
      "metadata": {
        "id": "cZOnMMvVyDd8"
      },
      "source": [
        "---\n",
        "## Install external modules\n",
        "Python community offers a huge variety of modules to eliminate the need for\n",
        "writing codes from scratch.\n",
        "[pip](https://pypi.org/project/pip/) is a package installer for Python. You\n",
        "can use pip to install packages from the Python Package Index and other indexes.\n",
        "\n",
        "To install a package you can run this command in your terminal:\n",
        "- Unix/macOS: `python3 -m pip install <package name>` or `pip3 install <package name>`\n",
        "- Windows: `py -m pip install <package name>` or `pip install <package name>`\n",
        "\n",
        "[Further reading](https://pip.pypa.io/en/stable/cli/pip_install/)\n",
        "on pip usage and how to write and install requirements files.\n",
        "\n",
        "You can also run terminal command from your jupyter notebook using\n",
        "[magic commands](https://ipython.readthedocs.io/en/stable/interactive/magics.html)\n",
        "\n",
        "To do so, you put `!` before your command so that jupyter understand executing\n",
        "it in the terminal."
      ]
    },
    {
      "cell_type": "code",
      "execution_count": 74,
      "metadata": {
        "colab": {
          "base_uri": "https://localhost:8080/"
        },
        "id": "-SgUm-A5yDd8",
        "outputId": "4c77334f-9fd8-4598-c869-c8e93b2edc26"
      },
      "outputs": [
        {
          "output_type": "stream",
          "name": "stdout",
          "text": [
            "Looking in indexes: https://pypi.org/simple, https://us-python.pkg.dev/colab-wheels/public/simple/\n",
            "Requirement already satisfied: numpy in /usr/local/lib/python3.7/dist-packages (1.21.6)\n"
          ]
        }
      ],
      "source": [
        "# https://ipython.readthedocs.io/en/stable/interactive/magics.html#magic-sx\n",
        "!pip install numpy"
      ]
    },
    {
      "cell_type": "markdown",
      "metadata": {
        "collapsed": false,
        "id": "I0PnW1UoyDd8"
      },
      "source": [
        "---\n",
        "## Numpy\n",
        "While python is a powerful, it is very slow compared to C/C++ since it's and\n",
        "interpreted language with dynamic typing. Numpy is python library that is\n",
        "implemented in C/C++. giving us the ease of development of python with the\n",
        "performance of C. depending on the operation numpy could be up to 100x faster.\n",
        "Moreover, it has various functions to perform linear algebra and array operations.\n",
        "\n",
        "[Reference](https://numpy.org/doc/stable/user/absolute_beginners.html)"
      ]
    },
    {
      "cell_type": "code",
      "execution_count": 75,
      "metadata": {
        "id": "KPs2z-5hyDd8"
      },
      "outputs": [],
      "source": [
        "import numpy as np"
      ]
    },
    {
      "cell_type": "code",
      "execution_count": 76,
      "metadata": {
        "colab": {
          "base_uri": "https://localhost:8080/"
        },
        "id": "hfSOAp4iyDd8",
        "outputId": "75fe2770-c0b7-4fd9-e3b7-cd67a8302815"
      },
      "outputs": [
        {
          "output_type": "stream",
          "name": "stdout",
          "text": [
            "[-93 -66  52 -83 -53  -9 -92 -67  -7  11  17  -7   3 -96  84  97 -54 -22\n",
            "  -4 -39]\n"
          ]
        }
      ],
      "source": [
        "my_np_list = np.random.randint(low=-100, high=100, size=20)\n",
        "print(my_np_list)"
      ]
    },
    {
      "cell_type": "markdown",
      "metadata": {
        "id": "qnrIrLTtyDd9"
      },
      "source": [
        "Here is some of the most common used function"
      ]
    },
    {
      "cell_type": "code",
      "execution_count": 77,
      "metadata": {
        "colab": {
          "base_uri": "https://localhost:8080/"
        },
        "id": "M6t3WBe3yDd9",
        "outputId": "cb856602-764f-4c25-af83-828fc6d80f6a"
      },
      "outputs": [
        {
          "output_type": "stream",
          "name": "stdout",
          "text": [
            "shape: (20,)\n",
            "sum: -428\n",
            "min: -96\n",
            "max: 97\n",
            "abs: [93 66 52 83 53  9 92 67  7 11 17  7  3 96 84 97 54 22  4 39]\n",
            "after .sort(): [-96 -93 -92 -83 -67 -66 -54 -53 -39 -22  -9  -7  -7  -4   3  11  17  52\n",
            "  84  97]\n",
            "doubling the array [-192 -186 -184 -166 -134 -132 -108 -106  -78  -44  -18  -14  -14   -8\n",
            "    6   22   34  104  168  194]\n"
          ]
        }
      ],
      "source": [
        "print('shape:', my_np_list.shape)\n",
        "print('sum:', my_np_list.sum())\n",
        "print('min:', my_np_list.min())\n",
        "print('max:', my_np_list.max())\n",
        "print('abs:', np.abs(my_np_list))\n",
        "my_np_list.sort()\n",
        "print('after .sort():', my_np_list)\n",
        "print('doubling the array', my_np_list * 2) # broadcasting"
      ]
    },
    {
      "cell_type": "markdown",
      "metadata": {
        "collapsed": false,
        "id": "2qgTx9W1yDd9"
      },
      "source": [
        "### Task 3:\n",
        "Print the mean, variance and standard deviation of `my_np_list`"
      ]
    },
    {
      "cell_type": "code",
      "execution_count": 78,
      "metadata": {
        "id": "2QF7BiThyDd9",
        "colab": {
          "base_uri": "https://localhost:8080/"
        },
        "outputId": "0d20c4ff-4e82-4fa5-e5ae-a3f32c58f44b"
      },
      "outputs": [
        {
          "output_type": "stream",
          "name": "stdout",
          "text": [
            "Mean:  {-21.4}\n",
            "Variance:  {3020.84}\n",
            "std deviation:  {54.96216880728052}\n"
          ]
        }
      ],
      "source": [
        "# Solve here\n",
        "print(f\"Mean: \", {np.mean(my_np_list)})\n",
        "print(f\"Variance: \", {np.var(my_np_list)})\n",
        "print(f\"std deviation: \", {np.std(my_np_list)})"
      ]
    },
    {
      "cell_type": "code",
      "execution_count": 79,
      "metadata": {
        "id": "85XzMkiWyDd9"
      },
      "outputs": [],
      "source": [
        "# 2D arrays\n",
        "#x = np.array(\n",
        "#    [\n",
        "#        [1, 2, 3, 4],\n",
        "#        [5, 6, 7, 8],\n",
        "#        [9, 10, 11, 12],\n",
        "#    ],\n",
        "#    np.int32,\n",
        "#)\n",
        "#print(x)\n",
        "#print(f'{x.shape = }')\n",
        "#print('accessing element:', x[1, 2])\n",
        "#print('slice of an array:', x[0:2, 2:3])\n",
        "#print('row:', x[0, :])\n",
        "#print('column:', x[:, 0])"
      ]
    },
    {
      "cell_type": "code",
      "execution_count": 80,
      "metadata": {
        "id": "dw-481M5yDd9",
        "colab": {
          "base_uri": "https://localhost:8080/"
        },
        "outputId": "88e83f3c-9556-4cf7-d3c7-3e3291385d98"
      },
      "outputs": [
        {
          "output_type": "stream",
          "name": "stdout",
          "text": [
            "numpy is 2.860581218425285  times faster than list\n"
          ]
        }
      ],
      "source": [
        "# speed\n",
        "from time import time\n",
        "\n",
        "st = time()\n",
        "my_list = [1] * 10000000\n",
        "sum(my_list)\n",
        "list_time = time()-st\n",
        "\n",
        "st = time()\n",
        "my_np_list = np.ones(10000000)\n",
        "my_np_list.sum()\n",
        "np_time = time()-st\n",
        "\n",
        "print('numpy is', list_time/np_time, ' times faster than list')"
      ]
    },
    {
      "cell_type": "markdown",
      "metadata": {
        "collapsed": false,
        "id": "c6JBfmzdyDd-"
      },
      "source": [
        "### Task 4\n",
        "Install the following packages: `matplotlib`, `pandas`, `seaborn` and `sklearn`"
      ]
    },
    {
      "cell_type": "code",
      "execution_count": 81,
      "metadata": {
        "id": "j8lCC-etyDd-"
      },
      "outputs": [],
      "source": [
        "# Solve here\n",
        "import matplotlib, pandas, seaborn, sklearn"
      ]
    },
    {
      "cell_type": "markdown",
      "metadata": {
        "id": "YjZGJW96yDd-"
      },
      "source": [
        "---\n",
        "## Matplotlib\n",
        "Matplotlib is a comprehensive library for creating static, animated, and\n",
        "interactive visualizations in Python.\n",
        "\n",
        "[Reference](https://matplotlib.org/stable/tutorials/introductory/pyplot.html#sphx-glr-tutorials-introductory-pyplot-py)"
      ]
    },
    {
      "cell_type": "code",
      "execution_count": 82,
      "metadata": {
        "id": "oY8s14mvyDd-"
      },
      "outputs": [],
      "source": [
        "import matplotlib.pyplot as plt\n",
        "%matplotlib inline \n",
        "# to plot in side the notebook"
      ]
    },
    {
      "cell_type": "code",
      "execution_count": 83,
      "metadata": {
        "id": "w8BBORQIyDd-",
        "colab": {
          "base_uri": "https://localhost:8080/",
          "height": 0
        },
        "outputId": "307d60ae-c1a4-440d-af62-7e7b5c6a0829"
      },
      "outputs": [
        {
          "output_type": "display_data",
          "data": {
            "text/plain": [
              "<Figure size 432x288 with 1 Axes>"
            ],
            "image/png": "[encoded data removed]"
          },
          "metadata": {
            "needs_background": "light"
          }
        }
      ],
      "source": [
        "# Line plot\n",
        "t = np.arange(0.0, 2.0, 0.01)\n",
        "s = 1 + np.sin(2 * np.pi * t)\n",
        "\n",
        "fig, ax = plt.subplots()\n",
        "ax.plot(t, s)\n",
        "\n",
        "ax.set(xlabel='Hours studied (s)', ylabel='voltage (mV)',\n",
        "       title='Change in volt over time')\n",
        "ax.grid()\n",
        "plt.show() # Show the plot"
      ]
    },
    {
      "cell_type": "code",
      "execution_count": 84,
      "metadata": {
        "id": "hIBJnXeryDd-",
        "colab": {
          "base_uri": "https://localhost:8080/",
          "height": 0
        },
        "outputId": "5c44ec7a-61b4-4f11-eea8-73c170e9d51e"
      },
      "outputs": [
        {
          "output_type": "display_data",
          "data": {
            "text/plain": [
              "<Figure size 648x360 with 3 Axes>"
            ],
            "image/png": "[encoded data removed]"
          },
          "metadata": {
            "needs_background": "light"
          }
        }
      ],
      "source": [
        "# different plots for categorical data\n",
        "names = ['group_a', 'group_b', 'group_c']\n",
        "values = [1, 10, 100]\n",
        "\n",
        "plt.figure(figsize=(9, 5))\n",
        "\n",
        "plt.subplot(131)  # To creat 1 by 3 grid and plot in the 1st subplot\n",
        "plt.bar(names, values)\n",
        "plt.subplot(132)  # plot in the 2nd subplot\n",
        "plt.scatter(names, values)\n",
        "plt.subplot(133)  # plot in the 3nd subplot\n",
        "plt.plot(names, values)\n",
        "plt.suptitle('Categorical Plotting')\n",
        "plt.show()"
      ]
    },
    {
      "cell_type": "markdown",
      "metadata": {
        "collapsed": false,
        "id": "USuiJP6RyDd_"
      },
      "source": [
        "---\n",
        "## Pandas\n",
        "[Pandas](https://pandas.pydata.org/docs/) is a fast, powerful, flexible and\n",
        "easy to use open source data analysis and manipulation tool.\n"
      ]
    },
    {
      "cell_type": "code",
      "execution_count": 85,
      "metadata": {
        "id": "6q2myUOfyDd_"
      },
      "outputs": [],
      "source": [
        "import pandas as pd\n"
      ]
    },
    {
      "cell_type": "code",
      "execution_count": 86,
      "metadata": {
        "id": "DM12exSyyDd_"
      },
      "outputs": [],
      "source": [
        "#df = pd.read_csv('petrol_consumption.csv')\n",
        "#df.info()"
      ]
    },
    {
      "cell_type": "code",
      "execution_count": 87,
      "metadata": {
        "id": "YlJqum6ryDd_"
      },
      "outputs": [],
      "source": [
        "# df.head(5)"
      ]
    },
    {
      "cell_type": "code",
      "execution_count": 88,
      "metadata": {
        "id": "_wvCz-I7yDd_"
      },
      "outputs": [],
      "source": [
        "# df.describe()\n"
      ]
    },
    {
      "cell_type": "code",
      "execution_count": 89,
      "metadata": {
        "id": "2zF2Bg6hyDd_"
      },
      "outputs": [],
      "source": [
        "# access a columns\n",
        "# print(df['Petrol_tax'].head())\n",
        "# print(df[['Average_income', 'Paved_Highways']].head())"
      ]
    },
    {
      "cell_type": "code",
      "execution_count": 90,
      "metadata": {
        "id": "nLURDSp7yDeA"
      },
      "outputs": [],
      "source": [
        "# access a rows\n",
        "# df.iloc[[1, 2, 4]]"
      ]
    },
    {
      "cell_type": "code",
      "execution_count": 91,
      "metadata": {
        "id": "WMKOIo5HyDeA"
      },
      "outputs": [],
      "source": [
        "# dropping a column\n",
        "# new_df = df.drop(['Average_income', 'Paved_Highways'], axis=1)\n",
        "# new_df.head()"
      ]
    },
    {
      "cell_type": "code",
      "execution_count": 92,
      "metadata": {
        "id": "gOLa7vNkyDeA"
      },
      "outputs": [],
      "source": [
        "# Drop a row by index\n",
        "# new_df = df.drop([0, 1])\n",
        "# new_df.head()"
      ]
    },
    {
      "cell_type": "code",
      "execution_count": 93,
      "metadata": {
        "id": "3ftI2b13yDeA"
      },
      "outputs": [],
      "source": [
        "# pandas support many operations similar to numpy\n",
        "# print('Sum of columns\\n', df.sum(), '\\n')\n",
        "# print('Sum of all the data frame\\n', df.sum().sum(), '\\n')\n",
        "# print('Mean of columns\\n', df.mean(), '\\n')\n",
        "# print('Converting dataframe to numpy array\\n', type(df.to_numpy()))"
      ]
    },
    {
      "cell_type": "markdown",
      "metadata": {
        "id": "pQnfC9O-yDeA"
      },
      "source": [
        "---\n",
        "## Seaborn\n",
        "Seaborn is a Python data visualization library based on matplotlib. It provides\n",
        "a high-level interface for drawing attractive and informative statistical graphics.\n",
        "Usually used with pandas.\n",
        "\n",
        "[Reference](https://seaborn.pydata.org/examples/index.html)\n",
        "[Examples](https://www.geeksforgeeks.org/python-seaborn-tutorial/)"
      ]
    },
    {
      "cell_type": "code",
      "execution_count": 94,
      "metadata": {
        "id": "0zrW2PThyDeA"
      },
      "outputs": [],
      "source": [
        "import seaborn as sns\n",
        "\n",
        "#df = sns.load_dataset('tips')\n",
        "#\n",
        "#graph = sns.FacetGrid(df, col =\"sex\",  hue =\"day\")\n",
        "#graph.map(plt.scatter, \"total_bill\", \"tip\", edgecolor =\"w\").add_legend()\n",
        "#\n",
        "#plt.show()"
      ]
    },
    {
      "cell_type": "markdown",
      "metadata": {
        "id": "CaNbHjqYyDeB"
      },
      "source": [
        "---\n",
        "## SKLearn\n",
        "\n",
        "[SKLearn](https://scikit-learn.org/stable/modules/classes.html) is a simple\n",
        "and efficient tools for predictive data analysis.\n",
        "We will use it for classification, regression and clustering algorithms.\n",
        "\n",
        "Usually datasets have two parts, data(or features) and targets(or labels).\n",
        "We train our machine learning model to predict the target of a sample given\n",
        "its features."
      ]
    },
    {
      "cell_type": "code",
      "execution_count": 95,
      "metadata": {
        "id": "GLJ3__k0yDeB",
        "colab": {
          "base_uri": "https://localhost:8080/"
        },
        "outputId": "bdbb156d-c877-4f59-c516-2582ecb59c78"
      },
      "outputs": [
        {
          "output_type": "stream",
          "name": "stdout",
          "text": [
            "Dataset shape: (150, 4), (150,)\n",
            "Example of a sample: features: [5.1 3.5 1.4 0.2], classification: 0\n"
          ]
        }
      ],
      "source": [
        "# sklearn has some datasets inside it to learn and test on them\n",
        "from sklearn import datasets\n",
        "iris = datasets.load_iris()\n",
        "print(f'Dataset shape: {iris.data.shape}, {iris.target.shape }')\n",
        "print(f'Example of a sample: features: {iris.data[0]}, classification: {iris.target[0]}')"
      ]
    },
    {
      "cell_type": "markdown",
      "metadata": {
        "collapsed": false,
        "id": "DrRDiQyuyDeB"
      },
      "source": [
        "SKLearn gives a simple API to build models. Mainly it consists of two steps:\n",
        "- Model creation: where we choose the model and set its parameters\n",
        "- Fitting the data: Where we give our model the training data to learn from\n",
        "- Prediction: where we can predict the label of a sample\n",
        "\n",
        "`svm` is a prediction model(we will study how it works later in the course).\n",
        "\n",
        "Here is an example on how to use an SKLearn model:"
      ]
    },
    {
      "cell_type": "code",
      "execution_count": 96,
      "metadata": {
        "id": "k3F3YorKyDeB",
        "colab": {
          "base_uri": "https://localhost:8080/"
        },
        "outputId": "2720b312-741e-44ee-fe4a-c7ece948b62f"
      },
      "outputs": [
        {
          "output_type": "stream",
          "name": "stdout",
          "text": [
            "Our prediction [2] True value: [2]\n"
          ]
        }
      ],
      "source": [
        "from sklearn import svm\n",
        "# setting the parameters needed by the algorithm\n",
        "clf = svm.SVC(gamma=0.001, C=100.)\n",
        "# Training on all the data except the last one\n",
        "clf.fit(iris.data[:-1], iris.target[:-1])\n",
        "# predicting the last sample\n",
        "print('Our prediction', clf.predict(iris.data[-1:]), 'True value:', iris.target[-1:])"
      ]
    },
    {
      "cell_type": "markdown",
      "metadata": {
        "collapsed": false,
        "id": "1xlcqsJJyDeB"
      },
      "source": [
        "---\n",
        "# Self-Practice\n",
        "Using the iris dataset used in the lab, plot each feature and the target data\n",
        "using matplotlib.\n",
        "Write your observation on the relationship between the target and each feature.\n",
        "What do you think is the most important features? Why?"
      ]
    },
    {
      "cell_type": "code",
      "source": [
        "import pandas as pd\n",
        "from sklearn.feature_selection import RFE\n",
        "df = pd.DataFrame(iris.data, columns = iris.feature_names)\n",
        "df.corr()"
      ],
      "metadata": {
        "colab": {
          "base_uri": "https://localhost:8080/",
          "height": 175
        },
        "id": "BzzoQWMu4IOK",
        "outputId": "f2d60d2c-2bb0-4bec-fa39-37b29da2a100"
      },
      "execution_count": 97,
      "outputs": [
        {
          "output_type": "execute_result",
          "data": {
            "text/plain": [
              "                   sepal length (cm)  sepal width (cm)  petal length (cm)  \\\n",
              "sepal length (cm)           1.000000         -0.117570           0.871754   \n",
              "sepal width (cm)           -0.117570          1.000000          -0.428440   \n",
              "petal length (cm)           0.871754         -0.428440           1.000000   \n",
              "petal width (cm)            0.817941         -0.366126           0.962865   \n",
              "\n",
              "                   petal width (cm)  \n",
              "sepal length (cm)          0.817941  \n",
              "sepal width (cm)          -0.366126  \n",
              "petal length (cm)          0.962865  \n",
              "petal width (cm)           1.000000  "
            ],
            "text/html": [
              "\n",
              "  <div id=\"df-8eb31d2f-ee09-4f3e-bf17-3b285c6d029e\">\n",
              "    <div class=\"colab-df-container\">\n",
              "      <div>\n",
              "<style scoped>\n",
              "    .dataframe tbody tr th:only-of-type {\n",
              "        vertical-align: middle;\n",
              "    }\n",
              "\n",
              "    .dataframe tbody tr th {\n",
              "        vertical-align: top;\n",
              "    }\n",
              "\n",
              "    .dataframe thead th {\n",
              "        text-align: right;\n",
              "    }\n",
              "</style>\n",
              "<table border=\"1\" class=\"dataframe\">\n",
              "  <thead>\n",
              "    <tr style=\"text-align: right;\">\n",
              "      <th></th>\n",
              "      <th>sepal length (cm)</th>\n",
              "      <th>sepal width (cm)</th>\n",
              "      <th>petal length (cm)</th>\n",
              "      <th>petal width (cm)</th>\n",
              "    </tr>\n",
              "  </thead>\n",
              "  <tbody>\n",
              "    <tr>\n",
              "      <th>sepal length (cm)</th>\n",
              "      <td>1.000000</td>\n",
              "      <td>-0.117570</td>\n",
              "      <td>0.871754</td>\n",
              "      <td>0.817941</td>\n",
              "    </tr>\n",
              "    <tr>\n",
              "      <th>sepal width (cm)</th>\n",
              "      <td>-0.117570</td>\n",
              "      <td>1.000000</td>\n",
              "      <td>-0.428440</td>\n",
              "      <td>-0.366126</td>\n",
              "    </tr>\n",
              "    <tr>\n",
              "      <th>petal length (cm)</th>\n",
              "      <td>0.871754</td>\n",
              "      <td>-0.428440</td>\n",
              "      <td>1.000000</td>\n",
              "      <td>0.962865</td>\n",
              "    </tr>\n",
              "    <tr>\n",
              "      <th>petal width (cm)</th>\n",
              "      <td>0.817941</td>\n",
              "      <td>-0.366126</td>\n",
              "      <td>0.962865</td>\n",
              "      <td>1.000000</td>\n",
              "    </tr>\n",
              "  </tbody>\n",
              "</table>\n",
              "</div>\n",
              "      <button class=\"colab-df-convert\" onclick=\"convertToInteractive('df-8eb31d2f-ee09-4f3e-bf17-3b285c6d029e')\"\n",
              "              title=\"Convert this dataframe to an interactive table.\"\n",
              "              style=\"display:none;\">\n",
              "        \n",
              "  <svg xmlns=\"http://www.w3.org/2000/svg\" height=\"24px\"viewBox=\"0 0 24 24\"\n",
              "       width=\"24px\">\n",
              "    <path d=\"M0 0h24v24H0V0z\" fill=\"none\"/>\n",
              "    <path d=\"M18.56 5.44l.94 2.06.94-2.06 2.06-.94-2.06-.94-.94-2.06-.94 2.06-2.06.94zm-11 1L8.5 8.5l.94-2.06 2.06-.94-2.06-.94L8.5 2.5l-.94 2.06-2.06.94zm10 10l.94 2.06.94-2.06 2.06-.94-2.06-.94-.94-2.06-.94 2.06-2.06.94z\"/><path d=\"M17.41 7.96l-1.37-1.37c-.4-.4-.92-.59-1.43-.59-.52 0-1.04.2-1.43.59L10.3 9.45l-7.72 7.72c-.78.78-.78 2.05 0 2.83L4 21.41c.39.39.9.59 1.41.59.51 0 1.02-.2 1.41-.59l7.78-7.78 2.81-2.81c.8-.78.8-2.07 0-2.86zM5.41 20L4 18.59l7.72-7.72 1.47 1.35L5.41 20z\"/>\n",
              "  </svg>\n",
              "      </button>\n",
              "      \n",
              "  <style>\n",
              "    .colab-df-container {\n",
              "      display:flex;\n",
              "      flex-wrap:wrap;\n",
              "      gap: 12px;\n",
              "    }\n",
              "\n",
              "    .colab-df-convert {\n",
              "      background-color: #E8F0FE;\n",
              "      border: none;\n",
              "      border-radius: 50%;\n",
              "      cursor: pointer;\n",
              "      display: none;\n",
              "      fill: #1967D2;\n",
              "      height: 32px;\n",
              "      padding: 0 0 0 0;\n",
              "      width: 32px;\n",
              "    }\n",
              "\n",
              "    .colab-df-convert:hover {\n",
              "      background-color: #E2EBFA;\n",
              "      box-shadow: 0px 1px 2px rgba(60, 64, 67, 0.3), 0px 1px 3px 1px rgba(60, 64, 67, 0.15);\n",
              "      fill: #174EA6;\n",
              "    }\n",
              "\n",
              "    [theme=dark] .colab-df-convert {\n",
              "      background-color: #3B4455;\n",
              "      fill: #D2E3FC;\n",
              "    }\n",
              "\n",
              "    [theme=dark] .colab-df-convert:hover {\n",
              "      background-color: #434B5C;\n",
              "      box-shadow: 0px 1px 3px 1px rgba(0, 0, 0, 0.15);\n",
              "      filter: drop-shadow(0px 1px 2px rgba(0, 0, 0, 0.3));\n",
              "      fill: #FFFFFF;\n",
              "    }\n",
              "  </style>\n",
              "\n",
              "      <script>\n",
              "        const buttonEl =\n",
              "          document.querySelector('#df-8eb31d2f-ee09-4f3e-bf17-3b285c6d029e button.colab-df-convert');\n",
              "        buttonEl.style.display =\n",
              "          google.colab.kernel.accessAllowed ? 'block' : 'none';\n",
              "\n",
              "        async function convertToInteractive(key) {\n",
              "          const element = document.querySelector('#df-8eb31d2f-ee09-4f3e-bf17-3b285c6d029e');\n",
              "          const dataTable =\n",
              "            await google.colab.kernel.invokeFunction('convertToInteractive',\n",
              "                                                     [key], {});\n",
              "          if (!dataTable) return;\n",
              "\n",
              "          const docLinkHtml = 'Like what you see? Visit the ' +\n",
              "            '<a target=\"_blank\" href=https://colab.research.google.com/notebooks/data_table.ipynb>data table notebook</a>'\n",
              "            + ' to learn more about interactive tables.';\n",
              "          element.innerHTML = '';\n",
              "          dataTable['output_type'] = 'display_data';\n",
              "          await google.colab.output.renderOutput(dataTable, element);\n",
              "          const docLink = document.createElement('div');\n",
              "          docLink.innerHTML = docLinkHtml;\n",
              "          element.appendChild(docLink);\n",
              "        }\n",
              "      </script>\n",
              "    </div>\n",
              "  </div>\n",
              "  "
            ]
          },
          "metadata": {},
          "execution_count": 97
        }
      ]
    },
    {
      "cell_type": "markdown",
      "source": [
        "## Since `petal width` and petal legth have `high correlation`, one of them is redundant, and hence can be removed."
      ],
      "metadata": {
        "id": "8d09JxRoLq5p"
      }
    },
    {
      "cell_type": "code",
      "source": [
        "iris_new = df.drop(['petal width (cm)'], axis = 1)\n",
        "#iris_new.head()\n",
        "iris_new.corr()"
      ],
      "metadata": {
        "colab": {
          "base_uri": "https://localhost:8080/",
          "height": 143
        },
        "id": "UBqsK6W097Yb",
        "outputId": "8ee07cbf-2c00-4e4a-da3a-0742ab998317"
      },
      "execution_count": 98,
      "outputs": [
        {
          "output_type": "execute_result",
          "data": {
            "text/plain": [
              "                   sepal length (cm)  sepal width (cm)  petal length (cm)\n",
              "sepal length (cm)           1.000000          -0.11757           0.871754\n",
              "sepal width (cm)           -0.117570           1.00000          -0.428440\n",
              "petal length (cm)           0.871754          -0.42844           1.000000"
            ],
            "text/html": [
              "\n",
              "  <div id=\"df-96039e6d-db26-48bc-8eca-87733c5798a1\">\n",
              "    <div class=\"colab-df-container\">\n",
              "      <div>\n",
              "<style scoped>\n",
              "    .dataframe tbody tr th:only-of-type {\n",
              "        vertical-align: middle;\n",
              "    }\n",
              "\n",
              "    .dataframe tbody tr th {\n",
              "        vertical-align: top;\n",
              "    }\n",
              "\n",
              "    .dataframe thead th {\n",
              "        text-align: right;\n",
              "    }\n",
              "</style>\n",
              "<table border=\"1\" class=\"dataframe\">\n",
              "  <thead>\n",
              "    <tr style=\"text-align: right;\">\n",
              "      <th></th>\n",
              "      <th>sepal length (cm)</th>\n",
              "      <th>sepal width (cm)</th>\n",
              "      <th>petal length (cm)</th>\n",
              "    </tr>\n",
              "  </thead>\n",
              "  <tbody>\n",
              "    <tr>\n",
              "      <th>sepal length (cm)</th>\n",
              "      <td>1.000000</td>\n",
              "      <td>-0.11757</td>\n",
              "      <td>0.871754</td>\n",
              "    </tr>\n",
              "    <tr>\n",
              "      <th>sepal width (cm)</th>\n",
              "      <td>-0.117570</td>\n",
              "      <td>1.00000</td>\n",
              "      <td>-0.428440</td>\n",
              "    </tr>\n",
              "    <tr>\n",
              "      <th>petal length (cm)</th>\n",
              "      <td>0.871754</td>\n",
              "      <td>-0.42844</td>\n",
              "      <td>1.000000</td>\n",
              "    </tr>\n",
              "  </tbody>\n",
              "</table>\n",
              "</div>\n",
              "      <button class=\"colab-df-convert\" onclick=\"convertToInteractive('df-96039e6d-db26-48bc-8eca-87733c5798a1')\"\n",
              "              title=\"Convert this dataframe to an interactive table.\"\n",
              "              style=\"display:none;\">\n",
              "        \n",
              "  <svg xmlns=\"http://www.w3.org/2000/svg\" height=\"24px\"viewBox=\"0 0 24 24\"\n",
              "       width=\"24px\">\n",
              "    <path d=\"M0 0h24v24H0V0z\" fill=\"none\"/>\n",
              "    <path d=\"M18.56 5.44l.94 2.06.94-2.06 2.06-.94-2.06-.94-.94-2.06-.94 2.06-2.06.94zm-11 1L8.5 8.5l.94-2.06 2.06-.94-2.06-.94L8.5 2.5l-.94 2.06-2.06.94zm10 10l.94 2.06.94-2.06 2.06-.94-2.06-.94-.94-2.06-.94 2.06-2.06.94z\"/><path d=\"M17.41 7.96l-1.37-1.37c-.4-.4-.92-.59-1.43-.59-.52 0-1.04.2-1.43.59L10.3 9.45l-7.72 7.72c-.78.78-.78 2.05 0 2.83L4 21.41c.39.39.9.59 1.41.59.51 0 1.02-.2 1.41-.59l7.78-7.78 2.81-2.81c.8-.78.8-2.07 0-2.86zM5.41 20L4 18.59l7.72-7.72 1.47 1.35L5.41 20z\"/>\n",
              "  </svg>\n",
              "      </button>\n",
              "      \n",
              "  <style>\n",
              "    .colab-df-container {\n",
              "      display:flex;\n",
              "      flex-wrap:wrap;\n",
              "      gap: 12px;\n",
              "    }\n",
              "\n",
              "    .colab-df-convert {\n",
              "      background-color: #E8F0FE;\n",
              "      border: none;\n",
              "      border-radius: 50%;\n",
              "      cursor: pointer;\n",
              "      display: none;\n",
              "      fill: #1967D2;\n",
              "      height: 32px;\n",
              "      padding: 0 0 0 0;\n",
              "      width: 32px;\n",
              "    }\n",
              "\n",
              "    .colab-df-convert:hover {\n",
              "      background-color: #E2EBFA;\n",
              "      box-shadow: 0px 1px 2px rgba(60, 64, 67, 0.3), 0px 1px 3px 1px rgba(60, 64, 67, 0.15);\n",
              "      fill: #174EA6;\n",
              "    }\n",
              "\n",
              "    [theme=dark] .colab-df-convert {\n",
              "      background-color: #3B4455;\n",
              "      fill: #D2E3FC;\n",
              "    }\n",
              "\n",
              "    [theme=dark] .colab-df-convert:hover {\n",
              "      background-color: #434B5C;\n",
              "      box-shadow: 0px 1px 3px 1px rgba(0, 0, 0, 0.15);\n",
              "      filter: drop-shadow(0px 1px 2px rgba(0, 0, 0, 0.3));\n",
              "      fill: #FFFFFF;\n",
              "    }\n",
              "  </style>\n",
              "\n",
              "      <script>\n",
              "        const buttonEl =\n",
              "          document.querySelector('#df-96039e6d-db26-48bc-8eca-87733c5798a1 button.colab-df-convert');\n",
              "        buttonEl.style.display =\n",
              "          google.colab.kernel.accessAllowed ? 'block' : 'none';\n",
              "\n",
              "        async function convertToInteractive(key) {\n",
              "          const element = document.querySelector('#df-96039e6d-db26-48bc-8eca-87733c5798a1');\n",
              "          const dataTable =\n",
              "            await google.colab.kernel.invokeFunction('convertToInteractive',\n",
              "                                                     [key], {});\n",
              "          if (!dataTable) return;\n",
              "\n",
              "          const docLinkHtml = 'Like what you see? Visit the ' +\n",
              "            '<a target=\"_blank\" href=https://colab.research.google.com/notebooks/data_table.ipynb>data table notebook</a>'\n",
              "            + ' to learn more about interactive tables.';\n",
              "          element.innerHTML = '';\n",
              "          dataTable['output_type'] = 'display_data';\n",
              "          await google.colab.output.renderOutput(dataTable, element);\n",
              "          const docLink = document.createElement('div');\n",
              "          docLink.innerHTML = docLinkHtml;\n",
              "          element.appendChild(docLink);\n",
              "        }\n",
              "      </script>\n",
              "    </div>\n",
              "  </div>\n",
              "  "
            ]
          },
          "metadata": {},
          "execution_count": 98
        }
      ]
    },
    {
      "cell_type": "code",
      "source": [
        "sepal = iris_new['sepal length (cm)'].to_numpy()"
      ],
      "metadata": {
        "id": "9TBIBTmb9Kvd"
      },
      "execution_count": 99,
      "outputs": []
    },
    {
      "cell_type": "code",
      "source": [
        "# Getting important features to numpy\n",
        "sepal = iris_new['sepal length (cm)'].to_numpy()\n",
        "petal_len = iris_new['petal length (cm)'].to_numpy()\n",
        "petal_wid = iris_new['sepal width (cm)'].to_numpy()\n",
        "\n",
        "\n",
        "y = iris.target\n",
        "\n",
        "# Imports to plot\n",
        "from mpl_toolkits import mplot3d\n",
        "%matplotlib inline\n",
        "import matplotlib.pyplot as plt\n",
        "\n",
        "# Plotting the three features and their classification\n",
        "\n",
        "fig = plt.figure(1, figsize=(8, 6))\n",
        "ax = fig.add_subplot(111, projection=\"3d\", elev=-150, azim=110)\n",
        "\n",
        "scatter = ax.scatter(\n",
        "    sepal,\n",
        "    petal_len,\n",
        "    petal_wid,\n",
        "    c=y,\n",
        "    cmap=plt.cm.Set1,\n",
        "    edgecolor=\"k\",\n",
        "    s=40,\n",
        ")\n",
        "# produce a legend of classes with the unique colors from the scatter plot\n",
        "legend1 = ax.legend(*scatter.legend_elements(),\n",
        "                    title=\"Classes\")\n",
        "ax.set_title(\"The three important features\")\n",
        "ax.set_xlabel(\"Sepal length\")\n",
        "ax.w_xaxis.set_ticklabels([])\n",
        "ax.set_ylabel(\"Petal length\")\n",
        "ax.w_yaxis.set_ticklabels([])\n",
        "ax.set_zlabel(\"Sepal width\")\n",
        "ax.w_zaxis.set_ticklabels([])\n",
        "\n",
        "plt.show()"
      ],
      "metadata": {
        "colab": {
          "base_uri": "https://localhost:8080/",
          "height": 357
        },
        "id": "aUipstyx77fc",
        "outputId": "0b02778e-83fa-4fea-e19c-0b9c892b81ad"
      },
      "execution_count": 104,
      "outputs": [
        {
          "output_type": "display_data",
          "data": {
            "text/plain": [
              "<Figure size 576x432 with 1 Axes>"
            ],
            "image/png": "[encoded data removed]"
          },
          "metadata": {
            "needs_background": "light"
          }
        }
      ]
    }
  ],
  "metadata": {
    "colab": {
      "provenance": [],
      "include_colab_link": true
    },
    "kernelspec": {
      "display_name": "Python 3",
      "language": "python",
      "name": "python3"
    },
    "language_info": {
      "codemirror_mode": {
        "name": "ipython",
        "version": 3
      },
      "file_extension": ".py",
      "mimetype": "text/x-python",
      "name": "python",
      "nbconvert_exporter": "python",
      "pygments_lexer": "ipython3",
      "version": "3.8.3"
    }
  },
  "nbformat": 4,
  "nbformat_minor": 0
}
