{
  "cells": [
    {
      "cell_type": "markdown",
      "metadata": {
        "id": "view-in-github",
        "colab_type": "text"
      },
      "source": [
        "<a href=\"https://colab.research.google.com/github/Jayveersinh-Raj/Machine_Learning_IU_Labs/blob/main/Lab5_self_practice.ipynb\" target=\"_parent\"><img src=\"https://colab.research.google.com/assets/colab-badge.svg\" alt=\"Open In Colab\"/></a>"
      ]
    },
    {
      "cell_type": "markdown",
      "id": "0960d8ea",
      "metadata": {
        "id": "0960d8ea"
      },
      "source": [
        "# Lab 5 - self practice\n",
        "\n",
        "## Objectives \n",
        "- understand how to compute covariance matrix from data\n",
        "- and how to compute eigen-vectors and eigen-values\n",
        "\n",
        "### Generating data ###"
      ]
    },
    {
      "cell_type": "code",
      "execution_count": 1,
      "id": "045bc019",
      "metadata": {
        "colab": {
          "base_uri": "https://localhost:8080/",
          "height": 281
        },
        "id": "045bc019",
        "outputId": "8c386cd2-f8c1-4e57-a7a3-878a202add95"
      },
      "outputs": [
        {
          "output_type": "display_data",
          "data": {
            "text/plain": [
              "<Figure size 432x288 with 1 Axes>"
            ],
            "image/png": "[encoded data removed]"
          },
          "metadata": {
            "needs_background": "light"
          }
        }
      ],
      "source": [
        "import numpy as np\n",
        "from matplotlib import pyplot as plt\n",
        "from sklearn.datasets import make_blobs, make_moons, make_circles\n",
        "\n",
        "# N is a sample size\n",
        "N = 25\n",
        "# we can fix a random seed. It allows us to get the same data\n",
        "np.random.seed(10)\n",
        "# form our data\n",
        "x = np.linspace(-5, -3, N)\n",
        "y = 10 + 2*x + np.random.random(size=(N,))\n",
        "data = np.stack([x,y], axis = 1)\n",
        "\n",
        "\n",
        "plt.title(\"Data\")\n",
        "plt.plot(data[:,0], data[:,1], '.', color=\"green\")\n",
        "plt.axis([-6, 2, -3, 6])\n",
        "plt.grid('True')"
      ]
    },
    {
      "cell_type": "markdown",
      "id": "1f77d017",
      "metadata": {
        "id": "1f77d017"
      },
      "source": [
        "### Center data"
      ]
    },
    {
      "cell_type": "code",
      "execution_count": 12,
      "id": "14307865",
      "metadata": {
        "colab": {
          "base_uri": "https://localhost:8080/",
          "height": 281
        },
        "id": "14307865",
        "outputId": "6abcb844-daf7-41df-bde8-8883d57e7f7c"
      },
      "outputs": [
        {
          "output_type": "display_data",
          "data": {
            "text/plain": [
              "<Figure size 432x288 with 1 Axes>"
            ],
            "image/png": "[encoded data removed]"
          },
          "metadata": {
            "needs_background": "light"
          }
        }
      ],
      "source": [
        "# center data by subtracting mean value from each feature\n",
        "# pay attention to mean_vector <-- we need it later for restoring our data\n",
        "# write 2 lines below\n",
        "import numpy as np\n",
        "mean_vector = np.mean(data, axis = 0)\n",
        "data_centered = data - mean_vector\n",
        "\n",
        "plt.title(\"Centered data\")\n",
        "plt.plot(data[:,0], data[:,1], '.', color=\"green\")\n",
        "plt.plot(data_centered[:,0], data_centered[:,1], '.', color=\"blue\")\n",
        "plt.axis([-6, 2, -3, 6])\n",
        "plt.grid('True')"
      ]
    },
    {
      "cell_type": "markdown",
      "id": "318160c9",
      "metadata": {
        "id": "318160c9"
      },
      "source": [
        "### Covariance matrix"
      ]
    },
    {
      "cell_type": "code",
      "execution_count": 15,
      "id": "73512543",
      "metadata": {
        "colab": {
          "base_uri": "https://localhost:8080/"
        },
        "id": "73512543",
        "outputId": "6e5ed2da-3560-4586-b7d6-8affbbfd0aac"
      },
      "outputs": [
        {
          "output_type": "stream",
          "name": "stdout",
          "text": [
            "Covariance matrix:\n",
            " [[0.37615741 0.76801889]\n",
            " [0.76801889 1.65019543]]\n",
            "cov(X,Y): 0.7680188927863001\n"
          ]
        }
      ],
      "source": [
        "# calculate covariance matrix for our centered data\n",
        "\n",
        "cov_mat = np.cov(x,y)\n",
        "print('Covariance matrix:\\n', cov_mat)\n",
        "\n",
        "# Cov(x, y) = (1 / (n - 1)) * Sum_i(x_i * y_i)\n",
        "# also, to make sure you understand how to calculate covariance, calculate and print cov(X,Y)\n",
        "# check that it is the same as in the covariance matrix\n",
        "cov_xy = cov_mat[0][1]\n",
        "print('cov(X,Y):', cov_xy)"
      ]
    },
    {
      "cell_type": "markdown",
      "id": "35cac464",
      "metadata": {
        "id": "35cac464"
      },
      "source": [
        "### Eigenvectors and eigenvalues"
      ]
    },
    {
      "cell_type": "code",
      "execution_count": 28,
      "id": "dff620e8",
      "metadata": {
        "colab": {
          "base_uri": "https://localhost:8080/"
        },
        "id": "dff620e8",
        "outputId": "7dd29047-f427-4098-eb82-298ee2761386"
      },
      "outputs": [
        {
          "output_type": "stream",
          "name": "stdout",
          "text": [
            "eig_values: [0.01535567 2.01099716]\n",
            "eig_vectors:\n",
            " [[-0.90509952 -0.42519979]\n",
            " [ 0.42519979 -0.90509952]]\n",
            "\n",
            "sorteed eig_values: [2.01099716 0.01535567]\n",
            "sorted eig_vectors:\n",
            " [[-0.42519979 -0.90509952]\n",
            " [-0.90509952  0.42519979]]\n",
            "\n",
            "retained variance: [0.99242201 0.00757799]\n"
          ]
        }
      ],
      "source": [
        "# compute eigenvectors and eigenvalues, print them\n",
        "from numpy.linalg import eig \n",
        "eig_values, eig_vectors = eig(cov_mat)\n",
        "print('eig_values:', eig_values)\n",
        "print('eig_vectors:\\n', eig_vectors)\n",
        "\n",
        "\n",
        "# are they already in the needed order?\n",
        "# if not, order eigenvectors and eigenvalues by eigenvalues, descending\n",
        "\n",
        "# not sorted hence, sorting\n",
        "\n",
        "idxs = np.argsort(eig_values)[::-1]\n",
        "eig_values = eig_values[idxs]\n",
        "eig_vectors = eig_vectors[:, idxs]\n",
        "\n",
        "print('\\nsorteed eig_values:', eig_values)\n",
        "print('sorted eig_vectors:\\n', eig_vectors)\n",
        "\n",
        "# estimate variance retained by each principal component\n",
        "retained_var = eig_values/np.sum(eig_values) \n",
        "print('\\nretained variance:',   retained_var)"
      ]
    },
    {
      "cell_type": "markdown",
      "id": "e751b1c4",
      "metadata": {
        "id": "e751b1c4"
      },
      "source": [
        "### Project data ###"
      ]
    },
    {
      "cell_type": "code",
      "execution_count": 30,
      "id": "a3b5d8ab",
      "metadata": {
        "colab": {
          "base_uri": "https://localhost:8080/",
          "height": 281
        },
        "id": "a3b5d8ab",
        "outputId": "8c9258e1-5149-494c-8476-fdd4e7dffb8c"
      },
      "outputs": [
        {
          "output_type": "display_data",
          "data": {
            "text/plain": [
              "<Figure size 432x288 with 1 Axes>"
            ],
            "image/png": "[encoded data removed]"
          },
          "metadata": {
            "needs_background": "light"
          }
        }
      ],
      "source": [
        "# project data to the first principal component\n",
        "first_pc = eig_vectors[:, :1]\n",
        "\n",
        "# Projecion of data on first principal component\n",
        "projected_data = np.dot(first_pc.transpose() , data_centered.transpose() ).transpose()\n",
        "\n",
        "plt.title(\"Projected data\")\n",
        "plt.plot(data[:,0], data[:,1], '.', color=\"green\")\n",
        "plt.plot(data_centered[:,0], data_centered[:,1], '.', color=\"blue\")\n",
        "plt.plot(projected_data, np.zeros(len(projected_data)), '.', color=\"red\")\n",
        "plt.axis([-6, 3, -3, 6])\n",
        "plt.grid('True')"
      ]
    },
    {
      "cell_type": "markdown",
      "id": "2c362789",
      "metadata": {
        "id": "2c362789"
      },
      "source": [
        "### Restore data back ###"
      ]
    },
    {
      "cell_type": "code",
      "execution_count": 34,
      "id": "a1c14ec3",
      "metadata": {
        "colab": {
          "base_uri": "https://localhost:8080/",
          "height": 281
        },
        "id": "a1c14ec3",
        "outputId": "2708c86c-ccde-4d81-b968-df2202de2022"
      },
      "outputs": [
        {
          "output_type": "display_data",
          "data": {
            "text/plain": [
              "<Figure size 432x288 with 1 Axes>"
            ],
            "image/png": "[encoded data removed]"
          },
          "metadata": {
            "needs_background": "light"
          }
        }
      ],
      "source": [
        "# Projected_data . first_pc.T + means\n",
        "# project data back to initial space\n",
        "# remember to add a mean_vector to the restored data\n",
        "\n",
        "restored_data = np.dot(projected_data, first_pc.T) + mean_vector\n",
        "\n",
        "plt.title(\"Restored data\")\n",
        "plt.plot(data[:,0], data[:,1], '.', color=\"green\")\n",
        "plt.plot(data_centered[:,0], data_centered[:,1], '.', color=\"blue\")\n",
        "plt.plot(restored_data[:,0], restored_data[:,1], '.', color=\"red\")\n",
        "plt.axis([-6, 2, -3, 6])\n",
        "plt.grid('True')\n",
        "plt.show()"
      ]
    },
    {
      "cell_type": "markdown",
      "id": "31469358",
      "metadata": {
        "id": "31469358"
      },
      "source": []
    },
    {
      "cell_type": "code",
      "execution_count": null,
      "id": "63cf505b",
      "metadata": {
        "id": "63cf505b"
      },
      "outputs": [],
      "source": []
    }
  ],
  "metadata": {
    "kernelspec": {
      "display_name": "Python 3",
      "language": "python",
      "name": "python3"
    },
    "language_info": {
      "codemirror_mode": {
        "name": "ipython",
        "version": 3
      },
      "file_extension": ".py",
      "mimetype": "text/x-python",
      "name": "python",
      "nbconvert_exporter": "python",
      "pygments_lexer": "ipython3",
      "version": "3.8.8"
    },
    "colab": {
      "provenance": [],
      "include_colab_link": true
    }
  },
  "nbformat": 4,
  "nbformat_minor": 5
}