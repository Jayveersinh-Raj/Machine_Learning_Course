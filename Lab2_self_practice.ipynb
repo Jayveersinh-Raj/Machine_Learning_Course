{
  "cells": [
    {
      "cell_type": "markdown",
      "metadata": {
        "id": "view-in-github",
        "colab_type": "text"
      },
      "source": [
        "<a href=\"https://colab.research.google.com/github/Jayveersinh-Raj/Machine_Learning_IU_Labs/blob/main/Lab2_self_practice.ipynb\" target=\"_parent\"><img src=\"https://colab.research.google.com/assets/colab-badge.svg\" alt=\"Open In Colab\"/></a>"
      ]
    },
    {
      "cell_type": "code",
      "execution_count": 1,
      "metadata": {
        "colab": {
          "base_uri": "https://localhost:8080/",
          "height": 265
        },
        "id": "RKrBAg8cOU06",
        "outputId": "751ba171-a970-4027-c1c7-8ff978c071aa"
      },
      "outputs": [
        {
          "output_type": "display_data",
          "data": {
            "text/plain": [
              "<Figure size 432x288 with 1 Axes>"
            ],
            "image/png": "[encoded data removed]"
          },
          "metadata": {
            "needs_background": "light"
          }
        }
      ],
      "source": [
        "import matplotlib.pyplot as plt\n",
        "\n",
        "from sklearn.pipeline import Pipeline\n",
        "from sklearn.preprocessing import PolynomialFeatures\n",
        "from sklearn.linear_model import LinearRegression\n",
        "from sklearn.model_selection import cross_val_score\n",
        "import numpy as np\n",
        "from sklearn.metrics import mean_squared_error\n",
        "\n",
        "\n",
        "\n",
        "x = [1,2,3,5,6,7,8,9,10,12,13,14,15,16,18,19,21,22]\n",
        "y = [100,90,80,60,60,55,60,65,70,70,75,76,78,79,90,99,99,100]\n",
        "\n",
        "plt.scatter(x, y)\n",
        "plt.show()"
      ]
    },
    {
      "cell_type": "markdown",
      "metadata": {
        "id": "mK0fY4lxOU0_"
      },
      "source": [
        "### Linear regression\n",
        "Let's apply a linear regression model on the above dataset"
      ]
    },
    {
      "cell_type": "code",
      "execution_count": 2,
      "metadata": {
        "colab": {
          "base_uri": "https://localhost:8080/"
        },
        "id": "xODV9NgAOU1B",
        "outputId": "1d18123a-44df-4a8a-8f9c-4f74cce69693"
      },
      "outputs": [
        {
          "output_type": "execute_result",
          "data": {
            "text/plain": [
              "array([[ 1],\n",
              "       [ 2],\n",
              "       [ 3],\n",
              "       [ 5],\n",
              "       [ 6],\n",
              "       [ 7],\n",
              "       [ 8],\n",
              "       [ 9],\n",
              "       [10],\n",
              "       [12],\n",
              "       [13],\n",
              "       [14],\n",
              "       [15],\n",
              "       [16],\n",
              "       [18],\n",
              "       [19],\n",
              "       [21],\n",
              "       [22]])"
            ]
          },
          "metadata": {},
          "execution_count": 2
        }
      ],
      "source": [
        "X = np.reshape(np.array(x), (-1,1)) \n",
        "X"
      ]
    },
    {
      "cell_type": "code",
      "execution_count": 3,
      "metadata": {
        "colab": {
          "base_uri": "https://localhost:8080/"
        },
        "id": "B0nzixqXOU1C",
        "outputId": "b93925ae-c04a-455c-96dd-9e10d06bb9e0"
      },
      "outputs": [
        {
          "output_type": "execute_result",
          "data": {
            "text/plain": [
              "LinearRegression()"
            ]
          },
          "metadata": {},
          "execution_count": 3
        }
      ],
      "source": [
        "from sklearn.linear_model import LinearRegression\n",
        "linear_regression = LinearRegression()\n",
        "\n",
        "# write one line code to train the model on the dataset\n",
        "linear_regression.fit(X, y)"
      ]
    },
    {
      "cell_type": "code",
      "execution_count": 5,
      "metadata": {
        "colab": {
          "base_uri": "https://localhost:8080/",
          "height": 265
        },
        "id": "QLUaulOPOU1C",
        "outputId": "2de391f8-97f8-4167-87b9-6d6404bbc483"
      },
      "outputs": [
        {
          "output_type": "display_data",
          "data": {
            "text/plain": [
              "<Figure size 432x288 with 1 Axes>"
            ],
            "image/png": "[encoded data removed]"
          },
          "metadata": {
            "needs_background": "light"
          }
        }
      ],
      "source": [
        "\n",
        "# write one line code to predict the dataset by the model\n",
        "y_pred = linear_regression.predict(X)\n",
        "\n",
        "plt.scatter(X, y, color=\"black\")\n",
        "plt.plot(X, y_pred, color=\"blue\", linewidth=3)\n",
        "\n",
        "plt.show()\n"
      ]
    },
    {
      "cell_type": "markdown",
      "metadata": {
        "id": "rYgS1GuvOU1D"
      },
      "source": [
        "Is our model underfitting or overfitting? Why?"
      ]
    },
    {
      "cell_type": "markdown",
      "metadata": {
        "id": "YrhUA1TaOU1D"
      },
      "source": [
        "Let's calculate the MSE to compare with the polynomial regression later."
      ]
    },
    {
      "cell_type": "code",
      "execution_count": 6,
      "metadata": {
        "colab": {
          "base_uri": "https://localhost:8080/"
        },
        "id": "WZDkH0ISOU1E",
        "outputId": "26a5e088-648b-40a9-e7e0-83124f17fbf2"
      },
      "outputs": [
        {
          "output_type": "stream",
          "name": "stdout",
          "text": [
            "Mean squared error: 179.61\n"
          ]
        }
      ],
      "source": [
        "# Calculate the MSE error, one line code\n",
        "from sklearn.metrics import mean_squared_error\n",
        "mse_linear_model = mean_squared_error(y, y_pred, squared=True) # if sqaured = False then returns RMSE\n",
        "\n",
        "print(\"Mean squared error: %.2f\" % mse_linear_model)"
      ]
    },
    {
      "cell_type": "markdown",
      "metadata": {
        "id": "8E2kHVgZOU1F"
      },
      "source": [
        "Now, let's try polynomial regression with different degrees"
      ]
    },
    {
      "cell_type": "code",
      "execution_count": 19,
      "metadata": {
        "colab": {
          "base_uri": "https://localhost:8080/",
          "height": 337
        },
        "id": "2WRgJVnbOU1F",
        "outputId": "b8b70910-6ab4-495c-f37b-37c0cf4283d8"
      },
      "outputs": [
        {
          "output_type": "display_data",
          "data": {
            "text/plain": [
              "<Figure size 1008x360 with 4 Axes>"
            ],
            "image/png": "[encoded data removed]"
          },
          "metadata": {}
        }
      ],
      "source": [
        "from sklearn.preprocessing import PolynomialFeatures\n",
        "from sklearn.pipeline import make_pipeline\n",
        "degrees = [2, 3, 6, 10]\n",
        "plt.figure(figsize=(14, 5))\n",
        "\n",
        "for i in range(len(degrees)):\n",
        "    degree = degrees[i]\n",
        "    polynomial_features = PolynomialFeatures(degree=degree)\n",
        "    linear_regression = LinearRegression()\n",
        "\n",
        "    # write 2 lines of code to create a pipeline that contains\n",
        "    #   polynomial_features and linear_regression;\n",
        "    #   also fit the created pipeline on the X dataset\n",
        "    pipeline = make_pipeline(polynomial_features, linear_regression)\n",
        "    \n",
        "    pipeline.fit(X, y)\n",
        "    y_predicted_poly2 = pipeline.predict(X)\n",
        "\n",
        "    # write one line bewlow to calculate the MSE\n",
        "    mse_error_poly = mean_squared_error(y, y_predicted_poly2, squared=True) # if sqaured = False then returns RMSE\n",
        "\n",
        "    ax = plt.subplot(1, len(degrees), i + 1)\n",
        "    plt.setp(ax, xticks=(), yticks=())\n",
        "    plt.scatter(X, y, color=\"black\")\n",
        "    plt.plot(X, y_predicted_poly2, color=\"blue\", linewidth=3)\n",
        "    plt.title(\"Degree {}\\nMSE = {:.2f}\".format(degree, mse_error_poly))\n",
        "\n",
        "plt.show()"
      ]
    },
    {
      "cell_type": "markdown",
      "metadata": {
        "id": "lujDFyqoOU1G"
      },
      "source": [
        "MSE is decreasing while we increase the number of degrees in PL, but does this mean that we can choose the PL model with the highest number of degrees?"
      ]
    }
  ],
  "metadata": {
    "kernelspec": {
      "display_name": "Python 3.8.8 ('env': venv)",
      "language": "python",
      "name": "python3"
    },
    "language_info": {
      "codemirror_mode": {
        "name": "ipython",
        "version": 3
      },
      "file_extension": ".py",
      "mimetype": "text/x-python",
      "name": "python",
      "nbconvert_exporter": "python",
      "pygments_lexer": "ipython3",
      "version": "3.8.8"
    },
    "orig_nbformat": 4,
    "vscode": {
      "interpreter": {
        "hash": "6df0ddd77085922c773681b1c23afa6ec355a7eb5a25c833f534ec75c0111436"
      }
    },
    "colab": {
      "provenance": [],
      "include_colab_link": true
    }
  },
  "nbformat": 4,
  "nbformat_minor": 0
}